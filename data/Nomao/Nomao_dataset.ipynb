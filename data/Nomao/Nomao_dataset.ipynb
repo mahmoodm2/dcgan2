{
 "cells": [
  {
   "cell_type": "code",
   "execution_count": 4,
   "metadata": {
    "collapsed": true
   },
   "outputs": [],
   "source": [
    "'''\n",
    "@author: Mahmoud Mohammadi\n",
    "Data Set : http://archive.ics.uci.edu/ml/datasets/Nomao\n",
    "\n",
    "'''    \n",
    "\n",
    "import csv\n",
    "import collections as c\n",
    "import math \n",
    "import operator\n",
    "import numpy as np\n",
    "import pandas as pd\n",
    "import collections as c\n",
    "import scipy.spatial.distance as sc\n",
    "import copy\n",
    "import datetime\n",
    "\n",
    "import re\n"
   ]
  },
  {
   "cell_type": "code",
   "execution_count": 6,
   "metadata": {
    "collapsed": false
   },
   "outputs": [],
   "source": [
    "basePath =\"\"\n",
    "dataset =\"Nomao\"\n",
    "dataFile = basePath + \"Nomao.data.csv\"\n",
    "\n",
    "col_names = []\n",
    "for i in range(1,121):\n",
    "    col_names.append('f'+ str(i))\n",
    "\n"
   ]
  },
  {
   "cell_type": "code",
   "execution_count": 7,
   "metadata": {
    "collapsed": false
   },
   "outputs": [
    {
     "data": {
      "text/html": [
       "<div>\n",
       "<table border=\"1\" class=\"dataframe\">\n",
       "  <thead>\n",
       "    <tr style=\"text-align: right;\">\n",
       "      <th></th>\n",
       "      <th>f1</th>\n",
       "      <th>f2</th>\n",
       "      <th>f3</th>\n",
       "      <th>f4</th>\n",
       "      <th>f5</th>\n",
       "      <th>f6</th>\n",
       "      <th>f7</th>\n",
       "      <th>f8</th>\n",
       "      <th>f9</th>\n",
       "      <th>f10</th>\n",
       "      <th>...</th>\n",
       "      <th>f111</th>\n",
       "      <th>f112</th>\n",
       "      <th>f113</th>\n",
       "      <th>f114</th>\n",
       "      <th>f115</th>\n",
       "      <th>f116</th>\n",
       "      <th>f117</th>\n",
       "      <th>f118</th>\n",
       "      <th>f119</th>\n",
       "      <th>f120</th>\n",
       "    </tr>\n",
       "  </thead>\n",
       "  <tbody>\n",
       "    <tr>\n",
       "      <th>0</th>\n",
       "      <td>0#1</td>\n",
       "      <td>1.0</td>\n",
       "      <td>1.00</td>\n",
       "      <td>1.000000</td>\n",
       "      <td>1.000000</td>\n",
       "      <td>1.000000</td>\n",
       "      <td>1.000000</td>\n",
       "      <td>s</td>\n",
       "      <td>s</td>\n",
       "      <td>?</td>\n",
       "      <td>...</td>\n",
       "      <td>0.75</td>\n",
       "      <td>0.5</td>\n",
       "      <td>n</td>\n",
       "      <td>0.999953002209</td>\n",
       "      <td>0.777777777778</td>\n",
       "      <td>0.461538463831</td>\n",
       "      <td>n</td>\n",
       "      <td>1.0</td>\n",
       "      <td>0.999999996702</td>\n",
       "      <td>1</td>\n",
       "    </tr>\n",
       "    <tr>\n",
       "      <th>1</th>\n",
       "      <td>0#2</td>\n",
       "      <td>1.0</td>\n",
       "      <td>0.75</td>\n",
       "      <td>0.857143</td>\n",
       "      <td>0.857143</td>\n",
       "      <td>0.894737</td>\n",
       "      <td>0.947368</td>\n",
       "      <td>s</td>\n",
       "      <td>n</td>\n",
       "      <td>?</td>\n",
       "      <td>...</td>\n",
       "      <td>0.5</td>\n",
       "      <td>0.307692319155</td>\n",
       "      <td>n</td>\n",
       "      <td>0.999982921892</td>\n",
       "      <td>0.538461538462</td>\n",
       "      <td>0.4375</td>\n",
       "      <td>n</td>\n",
       "      <td>1.0</td>\n",
       "      <td>0.999999962459</td>\n",
       "      <td>1</td>\n",
       "    </tr>\n",
       "    <tr>\n",
       "      <th>2</th>\n",
       "      <td>0#3</td>\n",
       "      <td>1.0</td>\n",
       "      <td>1.00</td>\n",
       "      <td>1.000000</td>\n",
       "      <td>1.000000</td>\n",
       "      <td>1.000000</td>\n",
       "      <td>1.000000</td>\n",
       "      <td>s</td>\n",
       "      <td>s</td>\n",
       "      <td>?</td>\n",
       "      <td>...</td>\n",
       "      <td>0.666666666667</td>\n",
       "      <td>0.461538463831</td>\n",
       "      <td>n</td>\n",
       "      <td>0.999992600055</td>\n",
       "      <td>0.8</td>\n",
       "      <td>0.666666686535</td>\n",
       "      <td>n</td>\n",
       "      <td>1.0</td>\n",
       "      <td>0.999999999653</td>\n",
       "      <td>1</td>\n",
       "    </tr>\n",
       "    <tr>\n",
       "      <th>3</th>\n",
       "      <td>4#5</td>\n",
       "      <td>1.0</td>\n",
       "      <td>0.75</td>\n",
       "      <td>0.857143</td>\n",
       "      <td>0.857143</td>\n",
       "      <td>0.842105</td>\n",
       "      <td>0.833333</td>\n",
       "      <td>s</td>\n",
       "      <td>n</td>\n",
       "      <td>1</td>\n",
       "      <td>...</td>\n",
       "      <td>0.5</td>\n",
       "      <td>0.285714298487</td>\n",
       "      <td>n</td>\n",
       "      <td>0.998604948886</td>\n",
       "      <td>0.555555555556</td>\n",
       "      <td>0.384615391493</td>\n",
       "      <td>n</td>\n",
       "      <td>0.999999947284</td>\n",
       "      <td>0.999994124065</td>\n",
       "      <td>1</td>\n",
       "    </tr>\n",
       "    <tr>\n",
       "      <th>4</th>\n",
       "      <td>6#7</td>\n",
       "      <td>0.0</td>\n",
       "      <td>0.00</td>\n",
       "      <td>0.250000</td>\n",
       "      <td>0.000000</td>\n",
       "      <td>0.250000</td>\n",
       "      <td>0.000000</td>\n",
       "      <td>n</td>\n",
       "      <td>n</td>\n",
       "      <td>?</td>\n",
       "      <td>...</td>\n",
       "      <td>?</td>\n",
       "      <td>?</td>\n",
       "      <td>m</td>\n",
       "      <td>?</td>\n",
       "      <td>?</td>\n",
       "      <td>?</td>\n",
       "      <td>m</td>\n",
       "      <td>1.0</td>\n",
       "      <td>?</td>\n",
       "      <td>1</td>\n",
       "    </tr>\n",
       "  </tbody>\n",
       "</table>\n",
       "<p>5 rows × 120 columns</p>\n",
       "</div>"
      ],
      "text/plain": [
       "    f1   f2    f3        f4        f5        f6        f7 f8 f9 f10 ...   \\\n",
       "0  0#1  1.0  1.00  1.000000  1.000000  1.000000  1.000000  s  s   ? ...    \n",
       "1  0#2  1.0  0.75  0.857143  0.857143  0.894737  0.947368  s  n   ? ...    \n",
       "2  0#3  1.0  1.00  1.000000  1.000000  1.000000  1.000000  s  s   ? ...    \n",
       "3  4#5  1.0  0.75  0.857143  0.857143  0.842105  0.833333  s  n   1 ...    \n",
       "4  6#7  0.0  0.00  0.250000  0.000000  0.250000  0.000000  n  n   ? ...    \n",
       "\n",
       "             f111            f112 f113            f114            f115  \\\n",
       "0            0.75             0.5    n  0.999953002209  0.777777777778   \n",
       "1             0.5  0.307692319155    n  0.999982921892  0.538461538462   \n",
       "2  0.666666666667  0.461538463831    n  0.999992600055             0.8   \n",
       "3             0.5  0.285714298487    n  0.998604948886  0.555555555556   \n",
       "4               ?               ?    m               ?               ?   \n",
       "\n",
       "             f116 f117            f118            f119 f120  \n",
       "0  0.461538463831    n             1.0  0.999999996702    1  \n",
       "1          0.4375    n             1.0  0.999999962459    1  \n",
       "2  0.666666686535    n             1.0  0.999999999653    1  \n",
       "3  0.384615391493    n  0.999999947284  0.999994124065    1  \n",
       "4               ?    m             1.0               ?    1  \n",
       "\n",
       "[5 rows x 120 columns]"
      ]
     },
     "execution_count": 7,
     "metadata": {},
     "output_type": "execute_result"
    }
   ],
   "source": [
    "df = pd.read_csv(dataFile, header =None,names= col_names, low_memory=False)\n",
    "\n",
    "df.head()"
   ]
  },
  {
   "cell_type": "code",
   "execution_count": 11,
   "metadata": {
    "collapsed": false
   },
   "outputs": [
    {
     "data": {
      "text/plain": [
       "81"
      ]
     },
     "execution_count": 11,
     "metadata": {},
     "output_type": "execute_result"
    }
   ],
   "source": [
    "selected_columns = ['f2','f3', 'f4', 'f5', 'f6', 'f7',\n",
    " 'f10', 'f11', 'f12', 'f13', 'f14', 'f15',\n",
    " 'f18', 'f19', 'f20', 'f21', 'f22', 'f23',\n",
    " 'f26', 'f27', 'f28', 'f29', 'f30', 'f31',\n",
    " 'f34', 'f35', 'f36', 'f37', 'f38', 'f39',\n",
    " 'f42', 'f43', 'f44', 'f45', 'f46', 'f47',\n",
    " 'f50', 'f51', 'f52', 'f53', 'f54', 'f55',\n",
    " 'f58', 'f59', 'f60', 'f61', 'f62', 'f63',\n",
    " 'f66', 'f67', 'f68', 'f69', 'f70', 'f71',\n",
    " 'f74', 'f75', 'f76', 'f77', 'f78', 'f79',\n",
    " 'f82', 'f83', 'f84', 'f85', 'f86', 'f87',\n",
    " 'f90', 'f91', 'f92',\n",
    " 'f94', 'f95', 'f96',\n",
    " 'f98', 'f99', 'f100',\n",
    " 'f102', 'f103', 'f104',\n",
    " 'f106', 'f107', 'f108',\n",
    " ]\n",
    "len(selected_columns)"
   ]
  },
  {
   "cell_type": "code",
   "execution_count": 36,
   "metadata": {
    "collapsed": false
   },
   "outputs": [
    {
     "data": {
      "text/html": [
       "<div>\n",
       "<table border=\"1\" class=\"dataframe\">\n",
       "  <thead>\n",
       "    <tr style=\"text-align: right;\">\n",
       "      <th></th>\n",
       "      <th>f2</th>\n",
       "      <th>f3</th>\n",
       "      <th>f4</th>\n",
       "      <th>f5</th>\n",
       "      <th>f6</th>\n",
       "      <th>f7</th>\n",
       "      <th>f10</th>\n",
       "      <th>f11</th>\n",
       "      <th>f12</th>\n",
       "      <th>f13</th>\n",
       "      <th>...</th>\n",
       "      <th>f96</th>\n",
       "      <th>f98</th>\n",
       "      <th>f99</th>\n",
       "      <th>f100</th>\n",
       "      <th>f102</th>\n",
       "      <th>f103</th>\n",
       "      <th>f104</th>\n",
       "      <th>f106</th>\n",
       "      <th>f107</th>\n",
       "      <th>f108</th>\n",
       "    </tr>\n",
       "  </thead>\n",
       "  <tbody>\n",
       "    <tr>\n",
       "      <th>0</th>\n",
       "      <td>1.0</td>\n",
       "      <td>1.00</td>\n",
       "      <td>1.000000</td>\n",
       "      <td>1.000000</td>\n",
       "      <td>1.000000</td>\n",
       "      <td>1.000000</td>\n",
       "      <td>?</td>\n",
       "      <td>?</td>\n",
       "      <td>?</td>\n",
       "      <td>?</td>\n",
       "      <td>...</td>\n",
       "      <td>?</td>\n",
       "      <td>1.0</td>\n",
       "      <td>1.0</td>\n",
       "      <td>1.0</td>\n",
       "      <td>1.0</td>\n",
       "      <td>1.0</td>\n",
       "      <td>1.0</td>\n",
       "      <td>1.0</td>\n",
       "      <td>1.0</td>\n",
       "      <td>1.0</td>\n",
       "    </tr>\n",
       "    <tr>\n",
       "      <th>1</th>\n",
       "      <td>1.0</td>\n",
       "      <td>0.75</td>\n",
       "      <td>0.857143</td>\n",
       "      <td>0.857143</td>\n",
       "      <td>0.894737</td>\n",
       "      <td>0.947368</td>\n",
       "      <td>?</td>\n",
       "      <td>?</td>\n",
       "      <td>?</td>\n",
       "      <td>?</td>\n",
       "      <td>...</td>\n",
       "      <td>?</td>\n",
       "      <td>1.0</td>\n",
       "      <td>1.0</td>\n",
       "      <td>1.0</td>\n",
       "      <td>1.0</td>\n",
       "      <td>1.0</td>\n",
       "      <td>1.0</td>\n",
       "      <td>1.0</td>\n",
       "      <td>1.0</td>\n",
       "      <td>1.0</td>\n",
       "    </tr>\n",
       "    <tr>\n",
       "      <th>2</th>\n",
       "      <td>1.0</td>\n",
       "      <td>1.00</td>\n",
       "      <td>1.000000</td>\n",
       "      <td>1.000000</td>\n",
       "      <td>1.000000</td>\n",
       "      <td>1.000000</td>\n",
       "      <td>?</td>\n",
       "      <td>?</td>\n",
       "      <td>?</td>\n",
       "      <td>?</td>\n",
       "      <td>...</td>\n",
       "      <td>?</td>\n",
       "      <td>1.0</td>\n",
       "      <td>1.0</td>\n",
       "      <td>1.0</td>\n",
       "      <td>1.0</td>\n",
       "      <td>1.0</td>\n",
       "      <td>1.0</td>\n",
       "      <td>1.0</td>\n",
       "      <td>1.0</td>\n",
       "      <td>1.0</td>\n",
       "    </tr>\n",
       "    <tr>\n",
       "      <th>3</th>\n",
       "      <td>1.0</td>\n",
       "      <td>0.75</td>\n",
       "      <td>0.857143</td>\n",
       "      <td>0.857143</td>\n",
       "      <td>0.842105</td>\n",
       "      <td>0.833333</td>\n",
       "      <td>1</td>\n",
       "      <td>1</td>\n",
       "      <td>1</td>\n",
       "      <td>1</td>\n",
       "      <td>...</td>\n",
       "      <td>?</td>\n",
       "      <td>1.0</td>\n",
       "      <td>1.0</td>\n",
       "      <td>1.0</td>\n",
       "      <td>0.999773651245</td>\n",
       "      <td>0.555555555556</td>\n",
       "      <td>0.333333343267</td>\n",
       "      <td>0.999961801459</td>\n",
       "      <td>0.5</td>\n",
       "      <td>0.29411765933</td>\n",
       "    </tr>\n",
       "    <tr>\n",
       "      <th>4</th>\n",
       "      <td>0.0</td>\n",
       "      <td>0.00</td>\n",
       "      <td>0.250000</td>\n",
       "      <td>0.000000</td>\n",
       "      <td>0.250000</td>\n",
       "      <td>0.000000</td>\n",
       "      <td>?</td>\n",
       "      <td>?</td>\n",
       "      <td>?</td>\n",
       "      <td>?</td>\n",
       "      <td>...</td>\n",
       "      <td>?</td>\n",
       "      <td>?</td>\n",
       "      <td>?</td>\n",
       "      <td>?</td>\n",
       "      <td>1.0</td>\n",
       "      <td>1.0</td>\n",
       "      <td>1.0</td>\n",
       "      <td>1.0</td>\n",
       "      <td>1.0</td>\n",
       "      <td>1.0</td>\n",
       "    </tr>\n",
       "  </tbody>\n",
       "</table>\n",
       "<p>5 rows × 81 columns</p>\n",
       "</div>"
      ],
      "text/plain": [
       "    f2    f3        f4        f5        f6        f7 f10 f11 f12 f13  \\\n",
       "0  1.0  1.00  1.000000  1.000000  1.000000  1.000000   ?   ?   ?   ?   \n",
       "1  1.0  0.75  0.857143  0.857143  0.894737  0.947368   ?   ?   ?   ?   \n",
       "2  1.0  1.00  1.000000  1.000000  1.000000  1.000000   ?   ?   ?   ?   \n",
       "3  1.0  0.75  0.857143  0.857143  0.842105  0.833333   1   1   1   1   \n",
       "4  0.0  0.00  0.250000  0.000000  0.250000  0.000000   ?   ?   ?   ?   \n",
       "\n",
       "       ...       f96  f98  f99 f100            f102            f103  \\\n",
       "0      ...         ?  1.0  1.0  1.0             1.0             1.0   \n",
       "1      ...         ?  1.0  1.0  1.0             1.0             1.0   \n",
       "2      ...         ?  1.0  1.0  1.0             1.0             1.0   \n",
       "3      ...         ?  1.0  1.0  1.0  0.999773651245  0.555555555556   \n",
       "4      ...         ?    ?    ?    ?             1.0             1.0   \n",
       "\n",
       "             f104            f106 f107           f108  \n",
       "0             1.0             1.0  1.0            1.0  \n",
       "1             1.0             1.0  1.0            1.0  \n",
       "2             1.0             1.0  1.0            1.0  \n",
       "3  0.333333343267  0.999961801459  0.5  0.29411765933  \n",
       "4             1.0             1.0  1.0            1.0  \n",
       "\n",
       "[5 rows x 81 columns]"
      ]
     },
     "execution_count": 36,
     "metadata": {},
     "output_type": "execute_result"
    }
   ],
   "source": [
    "# Selecting 24 columns having numeric data\n",
    "df = df[selected_columns]\n",
    "df.head()"
   ]
  },
  {
   "cell_type": "code",
   "execution_count": 14,
   "metadata": {
    "collapsed": true
   },
   "outputs": [],
   "source": [
    "#Finding columns having null vlaues  and replacing them with 0.0\n",
    "#df2 = df.copy()\n",
    "df.fillna(-1. , inplace= True)"
   ]
  },
  {
   "cell_type": "code",
   "execution_count": 37,
   "metadata": {
    "collapsed": true
   },
   "outputs": [],
   "source": [
    "# Replacing non numeric characters such as $ or E in cell values\n",
    "import re\n",
    "theregex = re.compile(r'[^\\d.]+')\n",
    "\n",
    "df = df.astype('str').applymap(lambda x: re.sub(r'[^\\d.]+', '0', x))       "
   ]
  },
  {
   "cell_type": "code",
   "execution_count": 38,
   "metadata": {
    "collapsed": false
   },
   "outputs": [],
   "source": [
    "df = df.replace(r'\\s+','0',regex=True)"
   ]
  },
  {
   "cell_type": "code",
   "execution_count": 40,
   "metadata": {
    "collapsed": false
   },
   "outputs": [],
   "source": [
    "# Changing all columns' types to float\n",
    "df = df.astype('float')"
   ]
  },
  {
   "cell_type": "code",
   "execution_count": 53,
   "metadata": {
    "collapsed": true
   },
   "outputs": [],
   "source": [
    "#df2.drop('Label', axis=1, inplace=True)"
   ]
  },
  {
   "cell_type": "code",
   "execution_count": 42,
   "metadata": {
    "collapsed": false
   },
   "outputs": [
    {
     "data": {
      "text/html": [
       "<div>\n",
       "<table border=\"1\" class=\"dataframe\">\n",
       "  <thead>\n",
       "    <tr style=\"text-align: right;\">\n",
       "      <th></th>\n",
       "      <th>f2</th>\n",
       "      <th>f3</th>\n",
       "      <th>f4</th>\n",
       "      <th>f5</th>\n",
       "      <th>f6</th>\n",
       "      <th>f7</th>\n",
       "      <th>f10</th>\n",
       "      <th>f11</th>\n",
       "      <th>f12</th>\n",
       "      <th>f13</th>\n",
       "      <th>...</th>\n",
       "      <th>f96</th>\n",
       "      <th>f98</th>\n",
       "      <th>f99</th>\n",
       "      <th>f100</th>\n",
       "      <th>f102</th>\n",
       "      <th>f103</th>\n",
       "      <th>f104</th>\n",
       "      <th>f106</th>\n",
       "      <th>f107</th>\n",
       "      <th>f108</th>\n",
       "    </tr>\n",
       "  </thead>\n",
       "  <tbody>\n",
       "    <tr>\n",
       "      <th>0</th>\n",
       "      <td>1.0</td>\n",
       "      <td>1.00</td>\n",
       "      <td>1.000000</td>\n",
       "      <td>1.000000</td>\n",
       "      <td>1.000000</td>\n",
       "      <td>1.000000</td>\n",
       "      <td>0.0</td>\n",
       "      <td>0.0</td>\n",
       "      <td>0.0</td>\n",
       "      <td>0.0</td>\n",
       "      <td>...</td>\n",
       "      <td>0.0</td>\n",
       "      <td>1.0</td>\n",
       "      <td>1.0</td>\n",
       "      <td>1.0</td>\n",
       "      <td>1.000000</td>\n",
       "      <td>1.000000</td>\n",
       "      <td>1.000000</td>\n",
       "      <td>1.000000</td>\n",
       "      <td>1.0</td>\n",
       "      <td>1.000000</td>\n",
       "    </tr>\n",
       "    <tr>\n",
       "      <th>1</th>\n",
       "      <td>1.0</td>\n",
       "      <td>0.75</td>\n",
       "      <td>0.857143</td>\n",
       "      <td>0.857143</td>\n",
       "      <td>0.894737</td>\n",
       "      <td>0.947368</td>\n",
       "      <td>0.0</td>\n",
       "      <td>0.0</td>\n",
       "      <td>0.0</td>\n",
       "      <td>0.0</td>\n",
       "      <td>...</td>\n",
       "      <td>0.0</td>\n",
       "      <td>1.0</td>\n",
       "      <td>1.0</td>\n",
       "      <td>1.0</td>\n",
       "      <td>1.000000</td>\n",
       "      <td>1.000000</td>\n",
       "      <td>1.000000</td>\n",
       "      <td>1.000000</td>\n",
       "      <td>1.0</td>\n",
       "      <td>1.000000</td>\n",
       "    </tr>\n",
       "    <tr>\n",
       "      <th>2</th>\n",
       "      <td>1.0</td>\n",
       "      <td>1.00</td>\n",
       "      <td>1.000000</td>\n",
       "      <td>1.000000</td>\n",
       "      <td>1.000000</td>\n",
       "      <td>1.000000</td>\n",
       "      <td>0.0</td>\n",
       "      <td>0.0</td>\n",
       "      <td>0.0</td>\n",
       "      <td>0.0</td>\n",
       "      <td>...</td>\n",
       "      <td>0.0</td>\n",
       "      <td>1.0</td>\n",
       "      <td>1.0</td>\n",
       "      <td>1.0</td>\n",
       "      <td>1.000000</td>\n",
       "      <td>1.000000</td>\n",
       "      <td>1.000000</td>\n",
       "      <td>1.000000</td>\n",
       "      <td>1.0</td>\n",
       "      <td>1.000000</td>\n",
       "    </tr>\n",
       "    <tr>\n",
       "      <th>3</th>\n",
       "      <td>1.0</td>\n",
       "      <td>0.75</td>\n",
       "      <td>0.857143</td>\n",
       "      <td>0.857143</td>\n",
       "      <td>0.842105</td>\n",
       "      <td>0.833333</td>\n",
       "      <td>1.0</td>\n",
       "      <td>1.0</td>\n",
       "      <td>1.0</td>\n",
       "      <td>1.0</td>\n",
       "      <td>...</td>\n",
       "      <td>0.0</td>\n",
       "      <td>1.0</td>\n",
       "      <td>1.0</td>\n",
       "      <td>1.0</td>\n",
       "      <td>0.999774</td>\n",
       "      <td>0.555556</td>\n",
       "      <td>0.333333</td>\n",
       "      <td>0.999962</td>\n",
       "      <td>0.5</td>\n",
       "      <td>0.294118</td>\n",
       "    </tr>\n",
       "    <tr>\n",
       "      <th>4</th>\n",
       "      <td>0.0</td>\n",
       "      <td>0.00</td>\n",
       "      <td>0.250000</td>\n",
       "      <td>0.000000</td>\n",
       "      <td>0.250000</td>\n",
       "      <td>0.000000</td>\n",
       "      <td>0.0</td>\n",
       "      <td>0.0</td>\n",
       "      <td>0.0</td>\n",
       "      <td>0.0</td>\n",
       "      <td>...</td>\n",
       "      <td>0.0</td>\n",
       "      <td>0.0</td>\n",
       "      <td>0.0</td>\n",
       "      <td>0.0</td>\n",
       "      <td>1.000000</td>\n",
       "      <td>1.000000</td>\n",
       "      <td>1.000000</td>\n",
       "      <td>1.000000</td>\n",
       "      <td>1.0</td>\n",
       "      <td>1.000000</td>\n",
       "    </tr>\n",
       "  </tbody>\n",
       "</table>\n",
       "<p>5 rows × 81 columns</p>\n",
       "</div>"
      ],
      "text/plain": [
       "    f2    f3        f4        f5        f6        f7  f10  f11  f12  f13  \\\n",
       "0  1.0  1.00  1.000000  1.000000  1.000000  1.000000  0.0  0.0  0.0  0.0   \n",
       "1  1.0  0.75  0.857143  0.857143  0.894737  0.947368  0.0  0.0  0.0  0.0   \n",
       "2  1.0  1.00  1.000000  1.000000  1.000000  1.000000  0.0  0.0  0.0  0.0   \n",
       "3  1.0  0.75  0.857143  0.857143  0.842105  0.833333  1.0  1.0  1.0  1.0   \n",
       "4  0.0  0.00  0.250000  0.000000  0.250000  0.000000  0.0  0.0  0.0  0.0   \n",
       "\n",
       "     ...     f96  f98  f99  f100      f102      f103      f104      f106  \\\n",
       "0    ...     0.0  1.0  1.0   1.0  1.000000  1.000000  1.000000  1.000000   \n",
       "1    ...     0.0  1.0  1.0   1.0  1.000000  1.000000  1.000000  1.000000   \n",
       "2    ...     0.0  1.0  1.0   1.0  1.000000  1.000000  1.000000  1.000000   \n",
       "3    ...     0.0  1.0  1.0   1.0  0.999774  0.555556  0.333333  0.999962   \n",
       "4    ...     0.0  0.0  0.0   0.0  1.000000  1.000000  1.000000  1.000000   \n",
       "\n",
       "   f107      f108  \n",
       "0   1.0  1.000000  \n",
       "1   1.0  1.000000  \n",
       "2   1.0  1.000000  \n",
       "3   0.5  0.294118  \n",
       "4   1.0  1.000000  \n",
       "\n",
       "[5 rows x 81 columns]"
      ]
     },
     "execution_count": 42,
     "metadata": {},
     "output_type": "execute_result"
    }
   ],
   "source": [
    "df.head()"
   ]
  },
  {
   "cell_type": "code",
   "execution_count": 43,
   "metadata": {
    "collapsed": true
   },
   "outputs": [],
   "source": [
    "# Saving cleaned DataFrame for later use\n",
    "df.to_pickle(basePath + dataset + \"_cleaned.pickle\")"
   ]
  },
  {
   "cell_type": "code",
   "execution_count": 44,
   "metadata": {
    "collapsed": true
   },
   "outputs": [],
   "source": [
    "# min_max is an array containing the Min and Max of each column in every row. \n",
    "# min_max[1,0] = Min(Col[1]) , min_max[1,1] = Max(Col[1]), min_max[2,0] = Min(Col[2]) , min_max[2,1] = Max(Col[2]) , ....\n",
    "\n",
    "col_min = [ min(df[col]) for col in df.columns ]\n",
    "col_max = [ max(df[col]) for col in df.columns ]\n",
    "min_max= np.array([ (x,y) for x,y in zip(col_min, col_max)])\n",
    "\n",
    "\n",
    "import csv\n",
    "# Saving Min and Max of each Dataframe column in a CSV file: [Min Col 0, Max Col 0],...\n",
    "\n",
    "with open(basePath + dataset + \"_minmax.csv\", 'w') as myfile:\n",
    "    wr = csv.writer(myfile, quoting=csv.QUOTE_ALL)\n",
    "    wr.writerow(min_max)\n",
    "\n"
   ]
  },
  {
   "cell_type": "code",
   "execution_count": 45,
   "metadata": {
    "collapsed": true
   },
   "outputs": [],
   "source": [
    "# Column-wise Normalizing of raw data in range of -1,1\n",
    "from sklearn import preprocessing\n",
    "\n",
    "\n",
    "min_max_scaler = preprocessing.MinMaxScaler(feature_range=(-1 , 1)) \n",
    "\n",
    "df_scaled = min_max_scaler.fit_transform(df)\n",
    "\n",
    "df_normalized = df.copy()\n",
    "df_normalized = pd.DataFrame(df_scaled)\n"
   ]
  },
  {
   "cell_type": "code",
   "execution_count": 47,
   "metadata": {
    "collapsed": false
   },
   "outputs": [],
   "source": [
    "\n",
    "df.to_pickle(basePath + dataset + \"_normalized.pickle\")"
   ]
  },
  {
   "cell_type": "code",
   "execution_count": 48,
   "metadata": {
    "collapsed": true
   },
   "outputs": [],
   "source": [
    "# Reshaping each row of the DataFrame to 5*5 matrix\n",
    "data_dim = 9\n",
    "ar = np.array(df_normalized.values.tolist())\n",
    "ar = ar.reshape(ar.shape[0] ,data_dim , -1)\n"
   ]
  },
  {
   "cell_type": "code",
   "execution_count": 49,
   "metadata": {
    "collapsed": false
   },
   "outputs": [
    {
     "data": {
      "text/plain": [
       "(34465, 9, 9)"
      ]
     },
     "execution_count": 49,
     "metadata": {},
     "output_type": "execute_result"
    }
   ],
   "source": [
    "ar.shape"
   ]
  },
  {
   "cell_type": "code",
   "execution_count": 50,
   "metadata": {
    "collapsed": true
   },
   "outputs": [],
   "source": [
    "# Saving reshaped data to be loaded later\n",
    "import pickle\n",
    "\n",
    "with open(basePath + dataset + \".pickle\", 'wb') as handle:\n",
    "    pickle.dump(ar , handle, protocol=pickle.HIGHEST_PROTOCOL)\n",
    "    "
   ]
  },
  {
   "cell_type": "code",
   "execution_count": 13,
   "metadata": {
    "collapsed": false
   },
   "outputs": [
    {
     "name": "stdout",
     "output_type": "stream",
     "text": [
      "500930.74 -30728.27 54959.08 63014.63204015281 285008\n"
     ]
    },
    {
     "data": {
      "text/plain": [
       "array([[ 1.        ],\n",
       "       [-1.        ],\n",
       "       [-0.6776605 ],\n",
       "       [-0.64735705]])"
      ]
     },
     "execution_count": 13,
     "metadata": {},
     "output_type": "execute_result"
    }
   ],
   "source": [
    "# Finding Average value of candidate column for labeling the data\n",
    "\n",
    "col =   'Total Payments'             \n",
    "print (max(df[col]) , min(df[col]) , df[col].median() , df[col].mean() , len(df[col] > 5500))\n",
    "\n",
    "x = np.array([500930.73999999999 ,-30728.27,54959.080000000002 , 63014.632040153258 \n",
    "               ])\n",
    "x= x.reshape(-1, 1)\n",
    "ds =min_max_scaler.fit_transform(x)\n",
    "ds"
   ]
  },
  {
   "cell_type": "code",
   "execution_count": 22,
   "metadata": {
    "collapsed": true
   },
   "outputs": [],
   "source": [
    "# Adding a new collumn as label of each record. Will be used for training \n",
    "# -0.64 is the normalized value of the mean of column 9\n",
    "\n",
    "label = np.array([ 1. if x > -0.64 else 0. for x in df_normalized[10]])"
   ]
  },
  {
   "cell_type": "code",
   "execution_count": 23,
   "metadata": {
    "collapsed": false
   },
   "outputs": [
    {
     "data": {
      "text/plain": [
       "array([[  0.00000000e+00,   1.62690000e+05],\n",
       "       [  1.00000000e+00,   1.22318000e+05]])"
      ]
     },
     "execution_count": 23,
     "metadata": {},
     "output_type": "execute_result"
    }
   ],
   "source": [
    "from scipy.stats import itemfreq\n",
    "\n",
    "itemfreq(label)"
   ]
  },
  {
   "cell_type": "code",
   "execution_count": 190,
   "metadata": {
    "collapsed": true
   },
   "outputs": [],
   "source": [
    "# Saving normalized data with the lable as the last column in a pickle file\n",
    "\n",
    "#label.to_pickle(\"data/y_train_\" + dataset + \".pickle\")"
   ]
  },
  {
   "cell_type": "code",
   "execution_count": 30,
   "metadata": {
    "collapsed": true
   },
   "outputs": [],
   "source": [
    " \n",
    "with open(\"data/y_train_\" + dataset + \".pickle\", 'wb') as handle2:\n",
    "    pickle.dump(label, handle2, protocol=pickle.HIGHEST_PROTOCOL)\n",
    "    \n",
    "    "
   ]
  },
  {
   "cell_type": "code",
   "execution_count": 40,
   "metadata": {
    "collapsed": true
   },
   "outputs": [],
   "source": [
    "with open(\"data/y_train_\" + dataset + \".pickle\", 'rb') as handle:\n",
    "    y = pickle.load(handle)"
   ]
  },
  {
   "cell_type": "code",
   "execution_count": 41,
   "metadata": {
    "collapsed": false
   },
   "outputs": [
    {
     "name": "stdout",
     "output_type": "stream",
     "text": [
      "(285008,)\n"
     ]
    },
    {
     "data": {
      "text/plain": [
       "array([ True,  True], dtype=bool)"
      ]
     },
     "execution_count": 41,
     "metadata": {},
     "output_type": "execute_result"
    }
   ],
   "source": [
    "# Should be similar to saved one \n",
    "print( str( y.shape))\n",
    "y[0:2] == label[0:2]"
   ]
  },
  {
   "cell_type": "code",
   "execution_count": 46,
   "metadata": {
    "collapsed": false
   },
   "outputs": [
    {
     "name": "stdout",
     "output_type": "stream",
     "text": [
      "(285008, 2)\n"
     ]
    }
   ],
   "source": [
    "y = y.astype(np.int)\n",
    "y_dim = 2\n",
    "y_vec = np.zeros((len(y), y_dim), dtype=np.float)\n",
    "print(y_vec.shape)\n",
    "for i, l in enumerate(y):\n",
    "    y_vec[i, y[i]] = 1.0"
   ]
  },
  {
   "cell_type": "code",
   "execution_count": 47,
   "metadata": {
    "collapsed": false
   },
   "outputs": [
    {
     "data": {
      "text/plain": [
       "array([[ 0.,  1.],\n",
       "       [ 1.,  0.],\n",
       "       [ 0.,  1.],\n",
       "       ..., \n",
       "       [ 0.,  1.],\n",
       "       [ 0.,  1.],\n",
       "       [ 0.,  1.]])"
      ]
     },
     "execution_count": 47,
     "metadata": {},
     "output_type": "execute_result"
    }
   ],
   "source": [
    "y_vec"
   ]
  },
  {
   "cell_type": "code",
   "execution_count": 220,
   "metadata": {
    "collapsed": false
   },
   "outputs": [
    {
     "name": "stdout",
     "output_type": "stream",
     "text": [
      "4453\n"
     ]
    }
   ],
   "source": [
    "idx= 0\n",
    "batch_size = 64\n",
    "train_size =np.inf \n",
    "batch_idxs = min(len(df_loaded), train_size) // batch_size # config.batch_size\n",
    "grayscale = True\n",
    "print(batch_idxs)"
   ]
  },
  {
   "cell_type": "code",
   "execution_count": 221,
   "metadata": {
    "collapsed": true
   },
   "outputs": [],
   "source": [
    "c = 0\n",
    "for idx in range(0, batch_idxs):\n",
    "    batch = df_loaded[idx *  batch_size : (idx + 1) * batch_size]\n",
    "\n",
    "    batch_images = np.array(batch).astype(np.float32)\n",
    "    c =c + 1"
   ]
  },
  {
   "cell_type": "code",
   "execution_count": 222,
   "metadata": {
    "collapsed": false
   },
   "outputs": [
    {
     "data": {
      "text/plain": [
       "(4453, (64, 5, 5), 285008)"
      ]
     },
     "execution_count": 222,
     "metadata": {},
     "output_type": "execute_result"
    }
   ],
   "source": [
    "c , batch_images.shape , len(df_loaded)"
   ]
  },
  {
   "cell_type": "code",
   "execution_count": 224,
   "metadata": {
    "collapsed": false
   },
   "outputs": [
    {
     "data": {
      "text/plain": [
       "(16, 5, 5)"
      ]
     },
     "execution_count": 224,
     "metadata": {},
     "output_type": "execute_result"
    }
   ],
   "source": [
    "idx  = 4453\n",
    "batch = df_loaded[idx *  batch_size : (idx + 1) * batch_size]\n",
    "\n",
    "batch_images = np.array(batch).astype(np.float32)\n",
    "\n",
    "batch_images.shape"
   ]
  }
 ],
 "metadata": {
  "kernelspec": {
   "display_name": "Python 3",
   "language": "python",
   "name": "python3"
  },
  "language_info": {
   "codemirror_mode": {
    "name": "ipython",
    "version": 3
   },
   "file_extension": ".py",
   "mimetype": "text/x-python",
   "name": "python",
   "nbconvert_exporter": "python",
   "pygments_lexer": "ipython3",
   "version": "3.6.0"
  }
 },
 "nbformat": 4,
 "nbformat_minor": 2
}
