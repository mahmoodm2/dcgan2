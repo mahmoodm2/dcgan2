{
 "cells": [
  {
   "cell_type": "code",
   "execution_count": 18,
   "metadata": {
    "collapsed": true
   },
   "outputs": [],
   "source": [
    "'''\n",
    "@author: Mahmoud Mohammadi\n",
    "Data Set : https://www.kaggle.com/cityofLA/city-payroll-data \n",
    "\n",
    "'''    \n",
    "\n",
    "import csv\n",
    "import collections as c\n",
    "import math \n",
    "import operator\n",
    "import numpy as np\n",
    "import pandas as pd\n",
    "import collections as c\n",
    "import scipy.spatial.distance as sc\n",
    "import copy\n",
    "import datetime\n",
    "\n",
    "import re\n",
    "from sklearn import preprocessing\n",
    "import pickle\n",
    "\n",
    "#from sklearn.cross_validation import train_test_split\n",
    "\n",
    "\n"
   ]
  },
  {
   "cell_type": "code",
   "execution_count": 19,
   "metadata": {
    "collapsed": true
   },
   "outputs": [],
   "source": [
    "basePath =\"\"\n",
    "dataset =\"LACity\"\n",
    "max_size = 15 # in K\n",
    "dataFile = basePath + \"LAcity_data.csv\""
   ]
  },
  {
   "cell_type": "code",
   "execution_count": 4,
   "metadata": {},
   "outputs": [
    {
     "data": {
      "text/html": [
       "<div>\n",
       "<style>\n",
       "    .dataframe thead tr:only-child th {\n",
       "        text-align: right;\n",
       "    }\n",
       "\n",
       "    .dataframe thead th {\n",
       "        text-align: left;\n",
       "    }\n",
       "\n",
       "    .dataframe tbody tr th {\n",
       "        vertical-align: top;\n",
       "    }\n",
       "</style>\n",
       "<table border=\"1\" class=\"dataframe\">\n",
       "  <thead>\n",
       "    <tr style=\"text-align: right;\">\n",
       "      <th></th>\n",
       "      <th>Row ID</th>\n",
       "      <th>Year</th>\n",
       "      <th>Department Title</th>\n",
       "      <th>Payroll Department</th>\n",
       "      <th>Record Number</th>\n",
       "      <th>Job Class Title</th>\n",
       "      <th>Employment Type</th>\n",
       "      <th>Hourly or Event Rate</th>\n",
       "      <th>Projected Annual Salary</th>\n",
       "      <th>Q1 Payments</th>\n",
       "      <th>...</th>\n",
       "      <th>MOU Title</th>\n",
       "      <th>FMS Department</th>\n",
       "      <th>Job Class</th>\n",
       "      <th>Pay Grade</th>\n",
       "      <th>Average Health Cost</th>\n",
       "      <th>Average Dental Cost</th>\n",
       "      <th>Average Basic Life</th>\n",
       "      <th>Average Benefit Cost</th>\n",
       "      <th>Benefits Plan</th>\n",
       "      <th>Job Class Link</th>\n",
       "    </tr>\n",
       "  </thead>\n",
       "  <tbody>\n",
       "    <tr>\n",
       "      <th>0</th>\n",
       "      <td>111391</td>\n",
       "      <td>2014</td>\n",
       "      <td>Water And Power (DWP)</td>\n",
       "      <td>NaN</td>\n",
       "      <td>1412316577</td>\n",
       "      <td>Commercial Service Representative</td>\n",
       "      <td>Full Time</td>\n",
       "      <td>NaN</td>\n",
       "      <td>$70386.48</td>\n",
       "      <td>$16129.89</td>\n",
       "      <td>...</td>\n",
       "      <td>NaN</td>\n",
       "      <td>98</td>\n",
       "      <td>1230</td>\n",
       "      <td>NaN</td>\n",
       "      <td>$16842.08</td>\n",
       "      <td>$1282.61</td>\n",
       "      <td>$0.00</td>\n",
       "      <td>$18124.69</td>\n",
       "      <td>DWP</td>\n",
       "      <td>http://per.lacity.org/perspecs/1230.pdf</td>\n",
       "    </tr>\n",
       "    <tr>\n",
       "      <th>1</th>\n",
       "      <td>31732</td>\n",
       "      <td>2013</td>\n",
       "      <td>Police (LAPD)</td>\n",
       "      <td>4301.0</td>\n",
       "      <td>432728338</td>\n",
       "      <td>Police Officer I</td>\n",
       "      <td>Full Time</td>\n",
       "      <td>$25.12</td>\n",
       "      <td>$52450.56</td>\n",
       "      <td>$11331.00</td>\n",
       "      <td>...</td>\n",
       "      <td>POLICE OFFICERS UNIT</td>\n",
       "      <td>70</td>\n",
       "      <td>2214</td>\n",
       "      <td>A</td>\n",
       "      <td>$11651.40</td>\n",
       "      <td>$898.08</td>\n",
       "      <td>$191.04</td>\n",
       "      <td>$12740.52</td>\n",
       "      <td>Police</td>\n",
       "      <td>http://per.lacity.org/perspecs/2214.pdf</td>\n",
       "    </tr>\n",
       "    <tr>\n",
       "      <th>2</th>\n",
       "      <td>27697</td>\n",
       "      <td>2013</td>\n",
       "      <td>Police (LAPD)</td>\n",
       "      <td>4301.0</td>\n",
       "      <td>97182506</td>\n",
       "      <td>Police Officer II</td>\n",
       "      <td>Full Time</td>\n",
       "      <td>$42.77</td>\n",
       "      <td>$89303.76</td>\n",
       "      <td>$20036.32</td>\n",
       "      <td>...</td>\n",
       "      <td>POLICE OFFICERS UNIT</td>\n",
       "      <td>70</td>\n",
       "      <td>2214</td>\n",
       "      <td>2</td>\n",
       "      <td>$11651.40</td>\n",
       "      <td>$898.08</td>\n",
       "      <td>$191.04</td>\n",
       "      <td>$12740.52</td>\n",
       "      <td>Police</td>\n",
       "      <td>http://per.lacity.org/perspecs/2214.pdf</td>\n",
       "    </tr>\n",
       "    <tr>\n",
       "      <th>3</th>\n",
       "      <td>14136</td>\n",
       "      <td>2013</td>\n",
       "      <td>Harbor (Port of LA)</td>\n",
       "      <td>3201.0</td>\n",
       "      <td>950136941</td>\n",
       "      <td>Senior Security Officer</td>\n",
       "      <td>Full Time</td>\n",
       "      <td>$28.75</td>\n",
       "      <td>$60028.96</td>\n",
       "      <td>$15793.88</td>\n",
       "      <td>...</td>\n",
       "      <td>SUPV BLUE COLLAR</td>\n",
       "      <td>42</td>\n",
       "      <td>3184</td>\n",
       "      <td>0</td>\n",
       "      <td>$10710.24</td>\n",
       "      <td>$405.24</td>\n",
       "      <td>$11.40</td>\n",
       "      <td>$11126.88</td>\n",
       "      <td>City</td>\n",
       "      <td>http://per.lacity.org/perspecs/3184.pdf</td>\n",
       "    </tr>\n",
       "    <tr>\n",
       "      <th>4</th>\n",
       "      <td>91896</td>\n",
       "      <td>2014</td>\n",
       "      <td>Public Works - Sanitation</td>\n",
       "      <td>7024.0</td>\n",
       "      <td>3230003445</td>\n",
       "      <td>Senior Clerk Typist</td>\n",
       "      <td>Full Time</td>\n",
       "      <td>$30.92</td>\n",
       "      <td>$64553.13</td>\n",
       "      <td>$14700.00</td>\n",
       "      <td>...</td>\n",
       "      <td>CLERICAL UNIT</td>\n",
       "      <td>82</td>\n",
       "      <td>1368</td>\n",
       "      <td>0</td>\n",
       "      <td>$11000.40</td>\n",
       "      <td>$409.68</td>\n",
       "      <td>$11.40</td>\n",
       "      <td>$11421.48</td>\n",
       "      <td>City</td>\n",
       "      <td>http://per.lacity.org/perspecs/1368.pdf</td>\n",
       "    </tr>\n",
       "  </tbody>\n",
       "</table>\n",
       "<p>5 rows × 35 columns</p>\n",
       "</div>"
      ],
      "text/plain": [
       "   Row ID  Year           Department Title  Payroll Department Record Number  \\\n",
       "0  111391  2014      Water And Power (DWP)                 NaN    1412316577   \n",
       "1   31732  2013              Police (LAPD)              4301.0     432728338   \n",
       "2   27697  2013              Police (LAPD)              4301.0      97182506   \n",
       "3   14136  2013        Harbor (Port of LA)              3201.0     950136941   \n",
       "4   91896  2014  Public Works - Sanitation              7024.0    3230003445   \n",
       "\n",
       "                     Job Class Title Employment Type Hourly or Event Rate  \\\n",
       "0  Commercial Service Representative       Full Time                  NaN   \n",
       "1                   Police Officer I       Full Time               $25.12   \n",
       "2                  Police Officer II       Full Time               $42.77   \n",
       "3            Senior Security Officer       Full Time               $28.75   \n",
       "4                Senior Clerk Typist       Full Time               $30.92   \n",
       "\n",
       "  Projected Annual Salary Q1 Payments  \\\n",
       "0               $70386.48   $16129.89   \n",
       "1               $52450.56   $11331.00   \n",
       "2               $89303.76   $20036.32   \n",
       "3               $60028.96   $15793.88   \n",
       "4               $64553.13   $14700.00   \n",
       "\n",
       "                    ...                                MOU Title  \\\n",
       "0                   ...                                      NaN   \n",
       "1                   ...                     POLICE OFFICERS UNIT   \n",
       "2                   ...                     POLICE OFFICERS UNIT   \n",
       "3                   ...                         SUPV BLUE COLLAR   \n",
       "4                   ...                            CLERICAL UNIT   \n",
       "\n",
       "  FMS Department Job Class Pay Grade Average Health Cost Average Dental Cost  \\\n",
       "0             98      1230       NaN           $16842.08            $1282.61   \n",
       "1             70      2214         A           $11651.40             $898.08   \n",
       "2             70      2214         2           $11651.40             $898.08   \n",
       "3             42      3184         0           $10710.24             $405.24   \n",
       "4             82      1368         0           $11000.40             $409.68   \n",
       "\n",
       "  Average Basic Life Average Benefit Cost Benefits Plan  \\\n",
       "0              $0.00            $18124.69           DWP   \n",
       "1            $191.04            $12740.52        Police   \n",
       "2            $191.04            $12740.52        Police   \n",
       "3             $11.40            $11126.88          City   \n",
       "4             $11.40            $11421.48          City   \n",
       "\n",
       "                            Job Class Link  \n",
       "0  http://per.lacity.org/perspecs/1230.pdf  \n",
       "1  http://per.lacity.org/perspecs/2214.pdf  \n",
       "2  http://per.lacity.org/perspecs/2214.pdf  \n",
       "3  http://per.lacity.org/perspecs/3184.pdf  \n",
       "4  http://per.lacity.org/perspecs/1368.pdf  \n",
       "\n",
       "[5 rows x 35 columns]"
      ]
     },
     "execution_count": 4,
     "metadata": {},
     "output_type": "execute_result"
    }
   ],
   "source": [
    "df = pd.read_csv(dataFile, low_memory=False)\n",
    "\n",
    "\n",
    "df =  df[:max_size * 1000]\n",
    "df.head()"
   ]
  },
  {
   "cell_type": "code",
   "execution_count": 5,
   "metadata": {},
   "outputs": [
    {
     "data": {
      "text/plain": [
       "(15000, 35)"
      ]
     },
     "execution_count": 5,
     "metadata": {},
     "output_type": "execute_result"
    }
   ],
   "source": [
    "df.shape"
   ]
  },
  {
   "cell_type": "code",
   "execution_count": 6,
   "metadata": {},
   "outputs": [
    {
     "data": {
      "text/plain": [
       "25"
      ]
     },
     "execution_count": 6,
     "metadata": {},
     "output_type": "execute_result"
    }
   ],
   "source": [
    "full_columns = ['Row ID', 'Year', 'Department Title', 'Payroll Department',\n",
    "       'Record Number', 'Job Class Title', 'Employment Type',\n",
    "       'Hourly or Event Rate', 'Projected Annual Salary', 'Q1 Payments',\n",
    "       'Q2 Payments', 'Q3 Payments', 'Q4 Payments', 'Payments Over Base Pay',\n",
    "       '% Over Base Pay', 'Total Payments', 'Base Pay', 'Permanent Bonus Pay',\n",
    "       'Longevity Bonus Pay', 'Temporary Bonus Pay', 'Lump Sum Pay',\n",
    "       'Overtime Pay', 'Other Pay & Adjustments',\n",
    "       'Other Pay (Payroll Explorer)', 'MOU', 'MOU Title', 'FMS Department',\n",
    "       'Job Class', 'Pay Grade', 'Average Health Cost', 'Average Dental Cost',\n",
    "       'Average Basic Life', 'Average Benefit Cost', 'Benefits Plan',\n",
    "       'Job Class Link']\n",
    "selected_columns = [ 'Row ID', 'Year',  'Record Number', \n",
    "       'Projected Annual Salary', 'Q1 Payments',\n",
    "       'Q2 Payments', 'Q3 Payments', 'Q4 Payments', 'Payments Over Base Pay',\n",
    "       '% Over Base Pay', 'Total Payments', 'Base Pay', 'Permanent Bonus Pay',\n",
    "       'Longevity Bonus Pay', 'Temporary Bonus Pay', 'Lump Sum Pay',\n",
    "       'Overtime Pay', 'Other Pay & Adjustments',\n",
    "       'Other Pay (Payroll Explorer)',  'FMS Department',\n",
    "       'Job Class', 'Average Health Cost', 'Average Dental Cost',\n",
    "       'Average Basic Life', 'Average Benefit Cost', \n",
    "       ]\n",
    "len(selected_columns)"
   ]
  },
  {
   "cell_type": "code",
   "execution_count": 7,
   "metadata": {},
   "outputs": [
    {
     "data": {
      "text/html": [
       "<div>\n",
       "<style>\n",
       "    .dataframe thead tr:only-child th {\n",
       "        text-align: right;\n",
       "    }\n",
       "\n",
       "    .dataframe thead th {\n",
       "        text-align: left;\n",
       "    }\n",
       "\n",
       "    .dataframe tbody tr th {\n",
       "        vertical-align: top;\n",
       "    }\n",
       "</style>\n",
       "<table border=\"1\" class=\"dataframe\">\n",
       "  <thead>\n",
       "    <tr style=\"text-align: right;\">\n",
       "      <th></th>\n",
       "      <th>Row ID</th>\n",
       "      <th>Year</th>\n",
       "      <th>Record Number</th>\n",
       "      <th>Projected Annual Salary</th>\n",
       "      <th>Q1 Payments</th>\n",
       "      <th>Q2 Payments</th>\n",
       "      <th>Q3 Payments</th>\n",
       "      <th>Q4 Payments</th>\n",
       "      <th>Payments Over Base Pay</th>\n",
       "      <th>% Over Base Pay</th>\n",
       "      <th>...</th>\n",
       "      <th>Lump Sum Pay</th>\n",
       "      <th>Overtime Pay</th>\n",
       "      <th>Other Pay &amp; Adjustments</th>\n",
       "      <th>Other Pay (Payroll Explorer)</th>\n",
       "      <th>FMS Department</th>\n",
       "      <th>Job Class</th>\n",
       "      <th>Average Health Cost</th>\n",
       "      <th>Average Dental Cost</th>\n",
       "      <th>Average Basic Life</th>\n",
       "      <th>Average Benefit Cost</th>\n",
       "    </tr>\n",
       "  </thead>\n",
       "  <tbody>\n",
       "    <tr>\n",
       "      <th>0</th>\n",
       "      <td>111391</td>\n",
       "      <td>2014</td>\n",
       "      <td>1412316577</td>\n",
       "      <td>$70386.48</td>\n",
       "      <td>$16129.89</td>\n",
       "      <td>$17829.78</td>\n",
       "      <td>$17678.24</td>\n",
       "      <td>$22946.57</td>\n",
       "      <td>$14273.91</td>\n",
       "      <td>23.67%</td>\n",
       "      <td>...</td>\n",
       "      <td>NaN</td>\n",
       "      <td>$369.12</td>\n",
       "      <td>$13904.79</td>\n",
       "      <td>$13904.79</td>\n",
       "      <td>98</td>\n",
       "      <td>1230</td>\n",
       "      <td>$16842.08</td>\n",
       "      <td>$1282.61</td>\n",
       "      <td>$0.00</td>\n",
       "      <td>$18124.69</td>\n",
       "    </tr>\n",
       "    <tr>\n",
       "      <th>1</th>\n",
       "      <td>31732</td>\n",
       "      <td>2013</td>\n",
       "      <td>432728338</td>\n",
       "      <td>$52450.56</td>\n",
       "      <td>$11331.00</td>\n",
       "      <td>$13859.93</td>\n",
       "      <td>$11968.32</td>\n",
       "      <td>$14048.20</td>\n",
       "      <td>$1700.40</td>\n",
       "      <td>3.43%</td>\n",
       "      <td>...</td>\n",
       "      <td>$0.00</td>\n",
       "      <td>$11.13</td>\n",
       "      <td>$180.24</td>\n",
       "      <td>$1689.27</td>\n",
       "      <td>70</td>\n",
       "      <td>2214</td>\n",
       "      <td>$11651.40</td>\n",
       "      <td>$898.08</td>\n",
       "      <td>$191.04</td>\n",
       "      <td>$12740.52</td>\n",
       "    </tr>\n",
       "    <tr>\n",
       "      <th>2</th>\n",
       "      <td>27697</td>\n",
       "      <td>2013</td>\n",
       "      <td>97182506</td>\n",
       "      <td>$89303.76</td>\n",
       "      <td>$20036.32</td>\n",
       "      <td>$23479.20</td>\n",
       "      <td>$21153.60</td>\n",
       "      <td>$24360.49</td>\n",
       "      <td>$4120.20</td>\n",
       "      <td>4.85%</td>\n",
       "      <td>...</td>\n",
       "      <td>$0.00</td>\n",
       "      <td>$482.29</td>\n",
       "      <td>$164.40</td>\n",
       "      <td>$3637.91</td>\n",
       "      <td>70</td>\n",
       "      <td>2214</td>\n",
       "      <td>$11651.40</td>\n",
       "      <td>$898.08</td>\n",
       "      <td>$191.04</td>\n",
       "      <td>$12740.52</td>\n",
       "    </tr>\n",
       "    <tr>\n",
       "      <th>3</th>\n",
       "      <td>14136</td>\n",
       "      <td>2013</td>\n",
       "      <td>950136941</td>\n",
       "      <td>$60028.96</td>\n",
       "      <td>$15793.88</td>\n",
       "      <td>$18560.38</td>\n",
       "      <td>$16471.18</td>\n",
       "      <td>$21110.80</td>\n",
       "      <td>$14275.44</td>\n",
       "      <td>24.76%</td>\n",
       "      <td>...</td>\n",
       "      <td>$0.00</td>\n",
       "      <td>$11504.72</td>\n",
       "      <td>$250.00</td>\n",
       "      <td>$2770.72</td>\n",
       "      <td>42</td>\n",
       "      <td>3184</td>\n",
       "      <td>$10710.24</td>\n",
       "      <td>$405.24</td>\n",
       "      <td>$11.40</td>\n",
       "      <td>$11126.88</td>\n",
       "    </tr>\n",
       "    <tr>\n",
       "      <th>4</th>\n",
       "      <td>91896</td>\n",
       "      <td>2014</td>\n",
       "      <td>3230003445</td>\n",
       "      <td>$64553.13</td>\n",
       "      <td>$14700.00</td>\n",
       "      <td>$17313.10</td>\n",
       "      <td>$15257.17</td>\n",
       "      <td>$17313.10</td>\n",
       "      <td>$5191.62</td>\n",
       "      <td>8.74%</td>\n",
       "      <td>...</td>\n",
       "      <td>$0.00</td>\n",
       "      <td>$417.37</td>\n",
       "      <td>$0.00</td>\n",
       "      <td>$4774.25</td>\n",
       "      <td>82</td>\n",
       "      <td>1368</td>\n",
       "      <td>$11000.40</td>\n",
       "      <td>$409.68</td>\n",
       "      <td>$11.40</td>\n",
       "      <td>$11421.48</td>\n",
       "    </tr>\n",
       "  </tbody>\n",
       "</table>\n",
       "<p>5 rows × 25 columns</p>\n",
       "</div>"
      ],
      "text/plain": [
       "   Row ID  Year Record Number Projected Annual Salary Q1 Payments Q2 Payments  \\\n",
       "0  111391  2014    1412316577               $70386.48   $16129.89   $17829.78   \n",
       "1   31732  2013     432728338               $52450.56   $11331.00   $13859.93   \n",
       "2   27697  2013      97182506               $89303.76   $20036.32   $23479.20   \n",
       "3   14136  2013     950136941               $60028.96   $15793.88   $18560.38   \n",
       "4   91896  2014    3230003445               $64553.13   $14700.00   $17313.10   \n",
       "\n",
       "  Q3 Payments Q4 Payments Payments Over Base Pay % Over Base Pay  \\\n",
       "0   $17678.24   $22946.57              $14273.91          23.67%   \n",
       "1   $11968.32   $14048.20               $1700.40           3.43%   \n",
       "2   $21153.60   $24360.49               $4120.20           4.85%   \n",
       "3   $16471.18   $21110.80              $14275.44          24.76%   \n",
       "4   $15257.17   $17313.10               $5191.62           8.74%   \n",
       "\n",
       "           ...          Lump Sum Pay Overtime Pay Other Pay & Adjustments  \\\n",
       "0          ...                   NaN      $369.12               $13904.79   \n",
       "1          ...                 $0.00       $11.13                 $180.24   \n",
       "2          ...                 $0.00      $482.29                 $164.40   \n",
       "3          ...                 $0.00    $11504.72                 $250.00   \n",
       "4          ...                 $0.00      $417.37                   $0.00   \n",
       "\n",
       "  Other Pay (Payroll Explorer) FMS Department Job Class Average Health Cost  \\\n",
       "0                    $13904.79             98      1230           $16842.08   \n",
       "1                     $1689.27             70      2214           $11651.40   \n",
       "2                     $3637.91             70      2214           $11651.40   \n",
       "3                     $2770.72             42      3184           $10710.24   \n",
       "4                     $4774.25             82      1368           $11000.40   \n",
       "\n",
       "  Average Dental Cost Average Basic Life  Average Benefit Cost  \n",
       "0            $1282.61              $0.00             $18124.69  \n",
       "1             $898.08            $191.04             $12740.52  \n",
       "2             $898.08            $191.04             $12740.52  \n",
       "3             $405.24             $11.40             $11126.88  \n",
       "4             $409.68             $11.40             $11421.48  \n",
       "\n",
       "[5 rows x 25 columns]"
      ]
     },
     "execution_count": 7,
     "metadata": {},
     "output_type": "execute_result"
    }
   ],
   "source": [
    "# Selecting 24 columns having numeric data\n",
    "df = df[selected_columns]\n",
    "df.head()"
   ]
  },
  {
   "cell_type": "code",
   "execution_count": 8,
   "metadata": {
    "collapsed": true
   },
   "outputs": [
    {
     "data": {
      "text/plain": [
       "Row ID                             0\n",
       "Year                               0\n",
       "Record Number                      0\n",
       "Projected Annual Salary            0\n",
       "Q1 Payments                        0\n",
       "Q2 Payments                        0\n",
       "Q3 Payments                        0\n",
       "Q4 Payments                        0\n",
       "Payments Over Base Pay             0\n",
       "% Over Base Pay                    0\n",
       "Total Payments                     0\n",
       "Base Pay                           0\n",
       "Permanent Bonus Pay                0\n",
       "Longevity Bonus Pay                0\n",
       "Temporary Bonus Pay                0\n",
       "Lump Sum Pay                    2540\n",
       "Overtime Pay                      21\n",
       "Other Pay & Adjustments            0\n",
       "Other Pay (Payroll Explorer)       0\n",
       "FMS Department                     0\n",
       "Job Class                          0\n",
       "Average Health Cost                0\n",
       "Average Dental Cost                0\n",
       "Average Basic Life                 0\n",
       "Average Benefit Cost               0\n",
       "dtype: int64"
      ]
     },
     "execution_count": 8,
     "metadata": {},
     "output_type": "execute_result"
    }
   ],
   "source": [
    "df.isnull().sum()"
   ]
  },
  {
   "cell_type": "markdown",
   "metadata": {},
   "source": [
    "### Finding columns having null vlaues  and replacing them with 0.0\n",
    "### Replacing non numeric characters such as $ or E in cell values- Then Changing all columns' types to float\n",
    "### Saving cleaned DataFrame for later use"
   ]
  },
  {
   "cell_type": "code",
   "execution_count": 8,
   "metadata": {
    "collapsed": true
   },
   "outputs": [],
   "source": [
    "df.fillna(0. , inplace= True)\n",
    "\n",
    "import re\n",
    "theregex = re.compile(r'[^\\d.-]+')\n",
    "\n",
    "df = df.astype('str').applymap(lambda x: re.sub(r'[^\\d.-]+', '', x))       \n",
    "\n",
    "df = df.astype('float')\n",
    "\n",
    "# Saving cleaned DataFrame for later use\n",
    "df.to_pickle( dataset + \"_cleaned_\" + str(max_size)+\"k.pickle\")"
   ]
  },
  {
   "cell_type": "markdown",
   "metadata": {},
   "source": [
    "### min_max is an array containing the Min and Max of each column in every row. "
   ]
  },
  {
   "cell_type": "code",
   "execution_count": 9,
   "metadata": {
    "collapsed": true
   },
   "outputs": [],
   "source": [
    "# min_max is an array containing the Min and Max of each column in every row. \n",
    "# min_max[1,0] = Min(Col[1]) , min_max[1,1] = Max(Col[1]), min_max[2,0] = Min(Col[2]) , min_max[2,1] = Max(Col[2]) , ....\n",
    "\n",
    "col_min = [ min(df[col]) for col in df.columns ]\n",
    "col_max = [ max(df[col]) for col in df.columns ]\n",
    "min_max= np.array([ (x,y) for x,y in zip(col_min, col_max)])\n",
    "\n",
    "\n",
    "import csv\n",
    "# Saving Min and Max of each Dataframe column in a CSV file: [Min Col 0, Max Col 0],...\n",
    "\n",
    "with open( dataset + \"_minmax_\" + str(max_size)+\"k.csv\", 'w') as myfile:\n",
    "    wr = csv.writer(myfile, quoting=csv.QUOTE_ALL)\n",
    "    wr.writerow(min_max)\n",
    "\n"
   ]
  },
  {
   "cell_type": "markdown",
   "metadata": {},
   "source": [
    "### Reading Cleaned Data"
   ]
  },
  {
   "cell_type": "code",
   "execution_count": 28,
   "metadata": {},
   "outputs": [
    {
     "data": {
      "text/html": [
       "<div>\n",
       "<style>\n",
       "    .dataframe thead tr:only-child th {\n",
       "        text-align: right;\n",
       "    }\n",
       "\n",
       "    .dataframe thead th {\n",
       "        text-align: left;\n",
       "    }\n",
       "\n",
       "    .dataframe tbody tr th {\n",
       "        vertical-align: top;\n",
       "    }\n",
       "</style>\n",
       "<table border=\"1\" class=\"dataframe\">\n",
       "  <thead>\n",
       "    <tr style=\"text-align: right;\">\n",
       "      <th></th>\n",
       "      <th>Row ID</th>\n",
       "      <th>Year</th>\n",
       "      <th>Record Number</th>\n",
       "      <th>Projected Annual Salary</th>\n",
       "      <th>Q1 Payments</th>\n",
       "      <th>Q2 Payments</th>\n",
       "      <th>Q3 Payments</th>\n",
       "      <th>Q4 Payments</th>\n",
       "      <th>Payments Over Base Pay</th>\n",
       "      <th>% Over Base Pay</th>\n",
       "      <th>...</th>\n",
       "      <th>Lump Sum Pay</th>\n",
       "      <th>Overtime Pay</th>\n",
       "      <th>Other Pay &amp; Adjustments</th>\n",
       "      <th>Other Pay (Payroll Explorer)</th>\n",
       "      <th>FMS Department</th>\n",
       "      <th>Job Class</th>\n",
       "      <th>Average Health Cost</th>\n",
       "      <th>Average Dental Cost</th>\n",
       "      <th>Average Basic Life</th>\n",
       "      <th>Average Benefit Cost</th>\n",
       "    </tr>\n",
       "  </thead>\n",
       "  <tbody>\n",
       "    <tr>\n",
       "      <th>0</th>\n",
       "      <td>111391.0</td>\n",
       "      <td>2014.0</td>\n",
       "      <td>1.412317e+09</td>\n",
       "      <td>70386.48</td>\n",
       "      <td>16129.89</td>\n",
       "      <td>17829.78</td>\n",
       "      <td>17678.24</td>\n",
       "      <td>22946.57</td>\n",
       "      <td>14273.91</td>\n",
       "      <td>23.67</td>\n",
       "      <td>...</td>\n",
       "      <td>0.0</td>\n",
       "      <td>369.12</td>\n",
       "      <td>13904.79</td>\n",
       "      <td>13904.79</td>\n",
       "      <td>98.0</td>\n",
       "      <td>1230.0</td>\n",
       "      <td>16842.08</td>\n",
       "      <td>1282.61</td>\n",
       "      <td>0.00</td>\n",
       "      <td>18124.69</td>\n",
       "    </tr>\n",
       "    <tr>\n",
       "      <th>1</th>\n",
       "      <td>31732.0</td>\n",
       "      <td>2013.0</td>\n",
       "      <td>4.327283e+08</td>\n",
       "      <td>52450.56</td>\n",
       "      <td>11331.00</td>\n",
       "      <td>13859.93</td>\n",
       "      <td>11968.32</td>\n",
       "      <td>14048.20</td>\n",
       "      <td>1700.40</td>\n",
       "      <td>3.43</td>\n",
       "      <td>...</td>\n",
       "      <td>0.0</td>\n",
       "      <td>11.13</td>\n",
       "      <td>180.24</td>\n",
       "      <td>1689.27</td>\n",
       "      <td>70.0</td>\n",
       "      <td>2214.0</td>\n",
       "      <td>11651.40</td>\n",
       "      <td>898.08</td>\n",
       "      <td>191.04</td>\n",
       "      <td>12740.52</td>\n",
       "    </tr>\n",
       "    <tr>\n",
       "      <th>2</th>\n",
       "      <td>27697.0</td>\n",
       "      <td>2013.0</td>\n",
       "      <td>9.718251e+07</td>\n",
       "      <td>89303.76</td>\n",
       "      <td>20036.32</td>\n",
       "      <td>23479.20</td>\n",
       "      <td>21153.60</td>\n",
       "      <td>24360.49</td>\n",
       "      <td>4120.20</td>\n",
       "      <td>4.85</td>\n",
       "      <td>...</td>\n",
       "      <td>0.0</td>\n",
       "      <td>482.29</td>\n",
       "      <td>164.40</td>\n",
       "      <td>3637.91</td>\n",
       "      <td>70.0</td>\n",
       "      <td>2214.0</td>\n",
       "      <td>11651.40</td>\n",
       "      <td>898.08</td>\n",
       "      <td>191.04</td>\n",
       "      <td>12740.52</td>\n",
       "    </tr>\n",
       "    <tr>\n",
       "      <th>3</th>\n",
       "      <td>14136.0</td>\n",
       "      <td>2013.0</td>\n",
       "      <td>9.501369e+08</td>\n",
       "      <td>60028.96</td>\n",
       "      <td>15793.88</td>\n",
       "      <td>18560.38</td>\n",
       "      <td>16471.18</td>\n",
       "      <td>21110.80</td>\n",
       "      <td>14275.44</td>\n",
       "      <td>24.76</td>\n",
       "      <td>...</td>\n",
       "      <td>0.0</td>\n",
       "      <td>11504.72</td>\n",
       "      <td>250.00</td>\n",
       "      <td>2770.72</td>\n",
       "      <td>42.0</td>\n",
       "      <td>3184.0</td>\n",
       "      <td>10710.24</td>\n",
       "      <td>405.24</td>\n",
       "      <td>11.40</td>\n",
       "      <td>11126.88</td>\n",
       "    </tr>\n",
       "    <tr>\n",
       "      <th>4</th>\n",
       "      <td>91896.0</td>\n",
       "      <td>2014.0</td>\n",
       "      <td>3.230003e+09</td>\n",
       "      <td>64553.13</td>\n",
       "      <td>14700.00</td>\n",
       "      <td>17313.10</td>\n",
       "      <td>15257.17</td>\n",
       "      <td>17313.10</td>\n",
       "      <td>5191.62</td>\n",
       "      <td>8.74</td>\n",
       "      <td>...</td>\n",
       "      <td>0.0</td>\n",
       "      <td>417.37</td>\n",
       "      <td>0.00</td>\n",
       "      <td>4774.25</td>\n",
       "      <td>82.0</td>\n",
       "      <td>1368.0</td>\n",
       "      <td>11000.40</td>\n",
       "      <td>409.68</td>\n",
       "      <td>11.40</td>\n",
       "      <td>11421.48</td>\n",
       "    </tr>\n",
       "  </tbody>\n",
       "</table>\n",
       "<p>5 rows × 25 columns</p>\n",
       "</div>"
      ],
      "text/plain": [
       "     Row ID    Year  Record Number  Projected Annual Salary  Q1 Payments  \\\n",
       "0  111391.0  2014.0   1.412317e+09                 70386.48     16129.89   \n",
       "1   31732.0  2013.0   4.327283e+08                 52450.56     11331.00   \n",
       "2   27697.0  2013.0   9.718251e+07                 89303.76     20036.32   \n",
       "3   14136.0  2013.0   9.501369e+08                 60028.96     15793.88   \n",
       "4   91896.0  2014.0   3.230003e+09                 64553.13     14700.00   \n",
       "\n",
       "   Q2 Payments  Q3 Payments  Q4 Payments  Payments Over Base Pay  \\\n",
       "0     17829.78     17678.24     22946.57                14273.91   \n",
       "1     13859.93     11968.32     14048.20                 1700.40   \n",
       "2     23479.20     21153.60     24360.49                 4120.20   \n",
       "3     18560.38     16471.18     21110.80                14275.44   \n",
       "4     17313.10     15257.17     17313.10                 5191.62   \n",
       "\n",
       "   % Over Base Pay          ...           Lump Sum Pay  Overtime Pay  \\\n",
       "0            23.67          ...                    0.0        369.12   \n",
       "1             3.43          ...                    0.0         11.13   \n",
       "2             4.85          ...                    0.0        482.29   \n",
       "3            24.76          ...                    0.0      11504.72   \n",
       "4             8.74          ...                    0.0        417.37   \n",
       "\n",
       "   Other Pay & Adjustments  Other Pay (Payroll Explorer)  FMS Department  \\\n",
       "0                 13904.79                      13904.79            98.0   \n",
       "1                   180.24                       1689.27            70.0   \n",
       "2                   164.40                       3637.91            70.0   \n",
       "3                   250.00                       2770.72            42.0   \n",
       "4                     0.00                       4774.25            82.0   \n",
       "\n",
       "   Job Class  Average Health Cost  Average Dental Cost  Average Basic Life  \\\n",
       "0     1230.0             16842.08              1282.61                0.00   \n",
       "1     2214.0             11651.40               898.08              191.04   \n",
       "2     2214.0             11651.40               898.08              191.04   \n",
       "3     3184.0             10710.24               405.24               11.40   \n",
       "4     1368.0             11000.40               409.68               11.40   \n",
       "\n",
       "   Average Benefit Cost  \n",
       "0              18124.69  \n",
       "1              12740.52  \n",
       "2              12740.52  \n",
       "3              11126.88  \n",
       "4              11421.48  \n",
       "\n",
       "[5 rows x 25 columns]"
      ]
     },
     "execution_count": 28,
     "metadata": {},
     "output_type": "execute_result"
    }
   ],
   "source": [
    "with open(dataset + \"_cleaned_\" + str(max_size)+\"k.pickle\", 'rb') as handle:\n",
    "    df = pickle.load(handle)\n",
    "df.head()"
   ]
  },
  {
   "cell_type": "markdown",
   "metadata": {},
   "source": [
    "### The col number of 'Total Payment'  field = 10\n",
    "### Min, MAx, Meanand Mdian Value of each Row    "
   ]
  },
  {
   "cell_type": "code",
   "execution_count": 29,
   "metadata": {},
   "outputs": [
    {
     "name": "stdout",
     "output_type": "stream",
     "text": [
      "0    74584.48\n",
      "Name: Total Payments, dtype: float64\n",
      "0    74584.48\n",
      "Name: Total Payments, dtype: float64\n",
      "[ 367292.54             0.           80892.19         77636.36565467]\n"
     ]
    }
   ],
   "source": [
    "print(df['Total Payments'][:1] ) \n",
    "\n",
    "print(df.iloc[:,10][:1])\n",
    "\n",
    "### Min, MAx, Meanand Mdian Value of each Row    \n",
    "col =   'Total Payments'   \n",
    "table_stats = np.array([max(df[col]) , min(df[col]) , df[col].median() , df[col].mean()])\n",
    "print (table_stats)\n",
    "\n",
    "\n"
   ]
  },
  {
   "cell_type": "markdown",
   "metadata": {},
   "source": [
    "### The fucntion to Column-wise Normalization"
   ]
  },
  {
   "cell_type": "code",
   "execution_count": 30,
   "metadata": {
    "collapsed": true
   },
   "outputs": [],
   "source": [
    "    \n",
    "min_max_scaler = preprocessing.MinMaxScaler(feature_range=(-1 , 1)) "
   ]
  },
  {
   "cell_type": "markdown",
   "metadata": {},
   "source": [
    "### Normalizing and Saving Data"
   ]
  },
  {
   "cell_type": "code",
   "execution_count": 31,
   "metadata": {},
   "outputs": [
    {
     "data": {
      "text/plain": [
       "(15000, 25)"
      ]
     },
     "execution_count": 31,
     "metadata": {},
     "output_type": "execute_result"
    }
   ],
   "source": [
    "df_normalized = pd.DataFrame(min_max_scaler.fit_transform(df))\n",
    "\n",
    "df_normalized.to_pickle(dataset + \"_normalized_\" + str(max_size)+\"k.pickle\")\n",
    "df_normalized.shape"
   ]
  },
  {
   "cell_type": "code",
   "execution_count": 32,
   "metadata": {},
   "outputs": [
    {
     "data": {
      "text/plain": [
       "0   -0.593869\n",
       "Name: 10, dtype: float64"
      ]
     },
     "execution_count": 32,
     "metadata": {},
     "output_type": "execute_result"
    }
   ],
   "source": [
    "df_normalized[10][:1]"
   ]
  },
  {
   "cell_type": "markdown",
   "metadata": {},
   "source": [
    "### Opening the saved pickle of the Normalized Data "
   ]
  },
  {
   "cell_type": "code",
   "execution_count": 33,
   "metadata": {
    "collapsed": true
   },
   "outputs": [],
   "source": [
    "\n",
    "with open(dataset + \"_normalized_\" + str(max_size)+\"k.pickle\", 'rb') as handle:\n",
    "    df = pickle.load(handle)\n",
    "\n"
   ]
  },
  {
   "cell_type": "code",
   "execution_count": 34,
   "metadata": {},
   "outputs": [
    {
     "data": {
      "text/plain": [
       "(15000, 25)"
      ]
     },
     "execution_count": 34,
     "metadata": {},
     "output_type": "execute_result"
    }
   ],
   "source": [
    "ar= np.array(df.values.tolist())\n",
    " \n",
    "ar.shape"
   ]
  },
  {
   "cell_type": "markdown",
   "metadata": {},
   "source": [
    "### Gneratig Lables Based on Mean Value of each Row\n",
    "### Saving Label Data in a pickle file\n",
    "\n",
    "The normal value of Mean( 15K)=  - 0.5772 . Later will be used for Labels"
   ]
  },
  {
   "cell_type": "code",
   "execution_count": 35,
   "metadata": {},
   "outputs": [
    {
     "name": "stdout",
     "output_type": "stream",
     "text": [
      "[[ 1.        ]\n",
      " [-1.        ]\n",
      " [-0.55952174]\n",
      " [-0.57725052]] -0.577250517233\n",
      "0   -0.593869\n",
      "Name: 10, dtype: float64\n",
      "[[  0.00000000e+00   7.16400000e+03]\n",
      " [  1.00000000e+00   7.83600000e+03]]\n"
     ]
    }
   ],
   "source": [
    "norm_stats =min_max_scaler.fit_transform(table_stats.reshape(-1,1))\n",
    "mean_normal = norm_stats[3][0]\n",
    "print( norm_stats , mean_normal)\n",
    "\n",
    "print(df[10][:1])\n",
    "\n",
    "\n",
    "from scipy.stats import itemfreq\n",
    "\n",
    "labeles = np.array([ 1. if x > mean_normal else 0. for x in df[10]])\n",
    "\n",
    "\n",
    "# To See how data are distributed based on mean value as the classifer of data . \n",
    "print(itemfreq(labeles))\n",
    "\n",
    "### Saving Label Data in a pickle file\n",
    "with open( dataset + \"_label_\" + str(max_size)+\"k.pickle\", 'wb') as handle2:\n",
    "    pickle.dump(labeles, handle2, protocol=pickle.HIGHEST_PROTOCOL)\n",
    "    \n",
    "    "
   ]
  },
  {
   "cell_type": "markdown",
   "metadata": {},
   "source": [
    "### Padding Normalized Data and Saving \n",
    "### Saving Padded data in Excel Format ( for use in ARX)"
   ]
  },
  {
   "cell_type": "code",
   "execution_count": 36,
   "metadata": {
    "collapsed": true
   },
   "outputs": [],
   "source": [
    "# ar contians Loaded Normalized Data                                                                    \n",
    "# Desired Shape of Data = dim * dim matrix\n",
    "dim = 16\n",
    "\n",
    "# Padding each row with zero\n",
    "npad = ((0, 0), (0,dim * dim - ar.shape[1]))\n",
    "ar = np.pad(ar, pad_width=npad, mode='constant', constant_values=0.)\n",
    "\n",
    "### Saving Padded data in Excel Format ( for use in ARX)"
   ]
  },
  {
   "cell_type": "code",
   "execution_count": 37,
   "metadata": {},
   "outputs": [
    {
     "data": {
      "text/plain": [
       "(15000, 256)"
      ]
     },
     "execution_count": 37,
     "metadata": {},
     "output_type": "execute_result"
    }
   ],
   "source": [
    "ar.shape"
   ]
  },
  {
   "cell_type": "code",
   "execution_count": 38,
   "metadata": {
    "collapsed": true
   },
   "outputs": [],
   "source": [
    "with open(dataset + \"_real_array.pickle\" , 'wb') as handle:\n",
    "    pickle.dump(ar , handle, protocol=pickle.HIGHEST_PROTOCOL)"
   ]
  },
  {
   "cell_type": "code",
   "execution_count": 19,
   "metadata": {
    "collapsed": true
   },
   "outputs": [],
   "source": [
    "    \n",
    "df = pd.DataFrame(ar)\n",
    "df.to_excel(dataset +\"_real.xlsx\", index=False)"
   ]
  },
  {
   "cell_type": "code",
   "execution_count": 20,
   "metadata": {},
   "outputs": [
    {
     "data": {
      "text/html": [
       "<div>\n",
       "<style>\n",
       "    .dataframe thead tr:only-child th {\n",
       "        text-align: right;\n",
       "    }\n",
       "\n",
       "    .dataframe thead th {\n",
       "        text-align: left;\n",
       "    }\n",
       "\n",
       "    .dataframe tbody tr th {\n",
       "        vertical-align: top;\n",
       "    }\n",
       "</style>\n",
       "<table border=\"1\" class=\"dataframe\">\n",
       "  <thead>\n",
       "    <tr style=\"text-align: right;\">\n",
       "      <th></th>\n",
       "      <th>0</th>\n",
       "      <th>1</th>\n",
       "      <th>2</th>\n",
       "      <th>3</th>\n",
       "      <th>4</th>\n",
       "      <th>5</th>\n",
       "      <th>6</th>\n",
       "      <th>7</th>\n",
       "      <th>8</th>\n",
       "      <th>9</th>\n",
       "      <th>...</th>\n",
       "      <th>246</th>\n",
       "      <th>247</th>\n",
       "      <th>248</th>\n",
       "      <th>249</th>\n",
       "      <th>250</th>\n",
       "      <th>251</th>\n",
       "      <th>252</th>\n",
       "      <th>253</th>\n",
       "      <th>254</th>\n",
       "      <th>255</th>\n",
       "    </tr>\n",
       "  </thead>\n",
       "  <tbody>\n",
       "    <tr>\n",
       "      <th>0</th>\n",
       "      <td>-0.163941</td>\n",
       "      <td>-0.333333</td>\n",
       "      <td>-0.342467</td>\n",
       "      <td>-0.518772</td>\n",
       "      <td>-0.779584</td>\n",
       "      <td>-0.788646</td>\n",
       "      <td>-0.720253</td>\n",
       "      <td>-0.643212</td>\n",
       "      <td>-0.857009</td>\n",
       "      <td>-0.974218</td>\n",
       "      <td>...</td>\n",
       "      <td>0.0</td>\n",
       "      <td>0.0</td>\n",
       "      <td>0.0</td>\n",
       "      <td>0.0</td>\n",
       "      <td>0.0</td>\n",
       "      <td>0.0</td>\n",
       "      <td>0.0</td>\n",
       "      <td>0.0</td>\n",
       "      <td>0.0</td>\n",
       "      <td>0.0</td>\n",
       "    </tr>\n",
       "    <tr>\n",
       "      <th>1</th>\n",
       "      <td>-0.761885</td>\n",
       "      <td>-1.000000</td>\n",
       "      <td>-0.798672</td>\n",
       "      <td>-0.641399</td>\n",
       "      <td>-0.845161</td>\n",
       "      <td>-0.834248</td>\n",
       "      <td>-0.810609</td>\n",
       "      <td>-0.760217</td>\n",
       "      <td>-0.955417</td>\n",
       "      <td>-0.990566</td>\n",
       "      <td>...</td>\n",
       "      <td>0.0</td>\n",
       "      <td>0.0</td>\n",
       "      <td>0.0</td>\n",
       "      <td>0.0</td>\n",
       "      <td>0.0</td>\n",
       "      <td>0.0</td>\n",
       "      <td>0.0</td>\n",
       "      <td>0.0</td>\n",
       "      <td>0.0</td>\n",
       "      <td>0.0</td>\n",
       "    </tr>\n",
       "    <tr>\n",
       "      <th>2</th>\n",
       "      <td>-0.792173</td>\n",
       "      <td>-1.000000</td>\n",
       "      <td>-0.954939</td>\n",
       "      <td>-0.389436</td>\n",
       "      <td>-0.726202</td>\n",
       "      <td>-0.723750</td>\n",
       "      <td>-0.665258</td>\n",
       "      <td>-0.624620</td>\n",
       "      <td>-0.936478</td>\n",
       "      <td>-0.989419</td>\n",
       "      <td>...</td>\n",
       "      <td>0.0</td>\n",
       "      <td>0.0</td>\n",
       "      <td>0.0</td>\n",
       "      <td>0.0</td>\n",
       "      <td>0.0</td>\n",
       "      <td>0.0</td>\n",
       "      <td>0.0</td>\n",
       "      <td>0.0</td>\n",
       "      <td>0.0</td>\n",
       "      <td>0.0</td>\n",
       "    </tr>\n",
       "    <tr>\n",
       "      <th>3</th>\n",
       "      <td>-0.893966</td>\n",
       "      <td>-1.000000</td>\n",
       "      <td>-0.557709</td>\n",
       "      <td>-0.589586</td>\n",
       "      <td>-0.784175</td>\n",
       "      <td>-0.780253</td>\n",
       "      <td>-0.739354</td>\n",
       "      <td>-0.667350</td>\n",
       "      <td>-0.856997</td>\n",
       "      <td>-0.973337</td>\n",
       "      <td>...</td>\n",
       "      <td>0.0</td>\n",
       "      <td>0.0</td>\n",
       "      <td>0.0</td>\n",
       "      <td>0.0</td>\n",
       "      <td>0.0</td>\n",
       "      <td>0.0</td>\n",
       "      <td>0.0</td>\n",
       "      <td>0.0</td>\n",
       "      <td>0.0</td>\n",
       "      <td>0.0</td>\n",
       "    </tr>\n",
       "    <tr>\n",
       "      <th>4</th>\n",
       "      <td>-0.310276</td>\n",
       "      <td>-0.333333</td>\n",
       "      <td>0.504048</td>\n",
       "      <td>-0.558655</td>\n",
       "      <td>-0.799123</td>\n",
       "      <td>-0.794581</td>\n",
       "      <td>-0.758565</td>\n",
       "      <td>-0.717286</td>\n",
       "      <td>-0.928092</td>\n",
       "      <td>-0.986277</td>\n",
       "      <td>...</td>\n",
       "      <td>0.0</td>\n",
       "      <td>0.0</td>\n",
       "      <td>0.0</td>\n",
       "      <td>0.0</td>\n",
       "      <td>0.0</td>\n",
       "      <td>0.0</td>\n",
       "      <td>0.0</td>\n",
       "      <td>0.0</td>\n",
       "      <td>0.0</td>\n",
       "      <td>0.0</td>\n",
       "    </tr>\n",
       "  </tbody>\n",
       "</table>\n",
       "<p>5 rows × 256 columns</p>\n",
       "</div>"
      ],
      "text/plain": [
       "        0         1         2         3         4         5         6    \\\n",
       "0 -0.163941 -0.333333 -0.342467 -0.518772 -0.779584 -0.788646 -0.720253   \n",
       "1 -0.761885 -1.000000 -0.798672 -0.641399 -0.845161 -0.834248 -0.810609   \n",
       "2 -0.792173 -1.000000 -0.954939 -0.389436 -0.726202 -0.723750 -0.665258   \n",
       "3 -0.893966 -1.000000 -0.557709 -0.589586 -0.784175 -0.780253 -0.739354   \n",
       "4 -0.310276 -0.333333  0.504048 -0.558655 -0.799123 -0.794581 -0.758565   \n",
       "\n",
       "        7         8         9   ...   246  247  248  249  250  251  252  253  \\\n",
       "0 -0.643212 -0.857009 -0.974218 ...   0.0  0.0  0.0  0.0  0.0  0.0  0.0  0.0   \n",
       "1 -0.760217 -0.955417 -0.990566 ...   0.0  0.0  0.0  0.0  0.0  0.0  0.0  0.0   \n",
       "2 -0.624620 -0.936478 -0.989419 ...   0.0  0.0  0.0  0.0  0.0  0.0  0.0  0.0   \n",
       "3 -0.667350 -0.856997 -0.973337 ...   0.0  0.0  0.0  0.0  0.0  0.0  0.0  0.0   \n",
       "4 -0.717286 -0.928092 -0.986277 ...   0.0  0.0  0.0  0.0  0.0  0.0  0.0  0.0   \n",
       "\n",
       "   254  255  \n",
       "0  0.0  0.0  \n",
       "1  0.0  0.0  \n",
       "2  0.0  0.0  \n",
       "3  0.0  0.0  \n",
       "4  0.0  0.0  \n",
       "\n",
       "[5 rows x 256 columns]"
      ]
     },
     "execution_count": 20,
     "metadata": {},
     "output_type": "execute_result"
    }
   ],
   "source": [
    "df.head()"
   ]
  },
  {
   "cell_type": "markdown",
   "metadata": {},
   "source": [
    "### Reshaping Padded data to a matrix of 16 * 16 and Saving in apickle file"
   ]
  },
  {
   "cell_type": "code",
   "execution_count": 39,
   "metadata": {},
   "outputs": [],
   "source": [
    "# Reshaping each row to matrix dim * dim\n",
    "ar = ar.reshape(ar.shape[0] ,dim , -1)\n",
    "ar.shape\n",
    "\n",
    "### Writing Reshaped, Padded and Normalized data \n",
    "\n",
    "with open( dataset + \"_final_\" + str(max_size)+\"k.pickle\", 'wb') as handle:\n",
    "     pickle.dump(ar , handle, protocol=pickle.HIGHEST_PROTOCOL)"
   ]
  },
  {
   "cell_type": "markdown",
   "metadata": {},
   "source": [
    "### After this point every thing is for Testing - Loding final data"
   ]
  },
  {
   "cell_type": "markdown",
   "metadata": {},
   "source": [
    "### The normal value of Mean( 120K)=  - 0.5824 . Later will be used for Labels\n",
    "\n",
    "norm_stats =min_max_scaler.fit_transform(table_stats.reshape(-1,1))\n",
    "norm_stats"
   ]
  },
  {
   "cell_type": "code",
   "execution_count": 6,
   "metadata": {},
   "outputs": [
    {
     "data": {
      "text/plain": [
       "(100000, 16, 16)"
      ]
     },
     "execution_count": 6,
     "metadata": {},
     "output_type": "execute_result"
    }
   ],
   "source": [
    "# Finding Average value of candidate column for labeling the data\n",
    "with open(dataset + \"_final.pickle\", 'rb') as handle:\n",
    "    df = (pickle.load(handle))\n",
    "df.shape"
   ]
  },
  {
   "cell_type": "code",
   "execution_count": 40,
   "metadata": {
    "collapsed": true
   },
   "outputs": [],
   "source": [
    "with open(\"data/y_train_\" + dataset + \".pickle\", 'rb') as handle:\n",
    "    y = pickle.load(handle)"
   ]
  },
  {
   "cell_type": "code",
   "execution_count": 41,
   "metadata": {},
   "outputs": [
    {
     "name": "stdout",
     "output_type": "stream",
     "text": [
      "(285008,)\n"
     ]
    },
    {
     "data": {
      "text/plain": [
       "array([ True,  True], dtype=bool)"
      ]
     },
     "execution_count": 41,
     "metadata": {},
     "output_type": "execute_result"
    }
   ],
   "source": [
    "# Should be similar to saved one \n",
    "print( str( y.shape))\n",
    "y[0:2] == label[0:2]"
   ]
  },
  {
   "cell_type": "code",
   "execution_count": 46,
   "metadata": {},
   "outputs": [
    {
     "name": "stdout",
     "output_type": "stream",
     "text": [
      "(285008, 2)\n"
     ]
    }
   ],
   "source": [
    "y = y.astype(np.int)\n",
    "y_dim = 2\n",
    "y_vec = np.zeros((len(y), y_dim), dtype=np.float)\n",
    "print(y_vec.shape)\n",
    "for i, l in enumerate(y):\n",
    "    y_vec[i, y[i]] = 1.0"
   ]
  },
  {
   "cell_type": "code",
   "execution_count": 47,
   "metadata": {},
   "outputs": [
    {
     "data": {
      "text/plain": [
       "array([[ 0.,  1.],\n",
       "       [ 1.,  0.],\n",
       "       [ 0.,  1.],\n",
       "       ..., \n",
       "       [ 0.,  1.],\n",
       "       [ 0.,  1.],\n",
       "       [ 0.,  1.]])"
      ]
     },
     "execution_count": 47,
     "metadata": {},
     "output_type": "execute_result"
    }
   ],
   "source": [
    "y_vec"
   ]
  },
  {
   "cell_type": "code",
   "execution_count": 220,
   "metadata": {},
   "outputs": [
    {
     "name": "stdout",
     "output_type": "stream",
     "text": [
      "4453\n"
     ]
    }
   ],
   "source": [
    "idx= 0\n",
    "batch_size = 64\n",
    "train_size =np.inf \n",
    "batch_idxs = min(len(df_loaded), train_size) // batch_size # config.batch_size\n",
    "grayscale = True\n",
    "print(batch_idxs)"
   ]
  },
  {
   "cell_type": "code",
   "execution_count": 221,
   "metadata": {
    "collapsed": true
   },
   "outputs": [],
   "source": [
    "c = 0\n",
    "for idx in range(0, batch_idxs):\n",
    "    batch = df_loaded[idx *  batch_size : (idx + 1) * batch_size]\n",
    "\n",
    "    batch_images = np.array(batch).astype(np.float32)\n",
    "    c =c + 1"
   ]
  },
  {
   "cell_type": "code",
   "execution_count": 222,
   "metadata": {},
   "outputs": [
    {
     "data": {
      "text/plain": [
       "(4453, (64, 5, 5), 285008)"
      ]
     },
     "execution_count": 222,
     "metadata": {},
     "output_type": "execute_result"
    }
   ],
   "source": [
    "c , batch_images.shape , len(df_loaded)"
   ]
  },
  {
   "cell_type": "code",
   "execution_count": 224,
   "metadata": {},
   "outputs": [
    {
     "data": {
      "text/plain": [
       "(16, 5, 5)"
      ]
     },
     "execution_count": 224,
     "metadata": {},
     "output_type": "execute_result"
    }
   ],
   "source": [
    "idx  = 4453\n",
    "batch = df_loaded[idx *  batch_size : (idx + 1) * batch_size]\n",
    "\n",
    "batch_images = np.array(batch).astype(np.float32)\n",
    "\n",
    "batch_images.shape"
   ]
  }
 ],
 "metadata": {
  "kernelspec": {
   "display_name": "Python 3",
   "language": "python",
   "name": "python3"
  },
  "language_info": {
   "codemirror_mode": {
    "name": "ipython",
    "version": 3
   },
   "file_extension": ".py",
   "mimetype": "text/x-python",
   "name": "python",
   "nbconvert_exporter": "python",
   "pygments_lexer": "ipython3",
   "version": "3.6.1"
  }
 },
 "nbformat": 4,
 "nbformat_minor": 2
}
