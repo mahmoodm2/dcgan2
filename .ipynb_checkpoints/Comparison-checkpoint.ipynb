{
 "cells": [
  {
   "cell_type": "code",
   "execution_count": 1,
   "metadata": {
    "collapsed": true
   },
   "outputs": [],
   "source": [
    "import numpy as np\n",
    "import pickle\n",
    "import matplotlib.gridspec as gridspec"
   ]
  },
  {
   "cell_type": "code",
   "execution_count": 2,
   "metadata": {
    "collapsed": true
   },
   "outputs": [],
   "source": [
    "dataset = 'LACity'"
   ]
  },
  {
   "cell_type": "code",
   "execution_count": 3,
   "metadata": {},
   "outputs": [],
   "source": [
    "with open('data/' + dataset + \"_real_array.pickle\" ,'rb') as handle:\n",
    "    real= pickle.load(handle)"
   ]
  },
  {
   "cell_type": "code",
   "execution_count": 4,
   "metadata": {
    "collapsed": true
   },
   "outputs": [],
   "source": [
    "with open('data/' + dataset + \"_fake_array.pickle\" ,'rb') as handle:\n",
    "    fake= pickle.load(handle)"
   ]
  },
  {
   "cell_type": "code",
   "execution_count": 5,
   "metadata": {},
   "outputs": [
    {
     "data": {
      "text/plain": [
       "(15000, 256)"
      ]
     },
     "execution_count": 5,
     "metadata": {},
     "output_type": "execute_result"
    }
   ],
   "source": [
    "real.shape"
   ]
  },
  {
   "cell_type": "code",
   "execution_count": 6,
   "metadata": {},
   "outputs": [
    {
     "data": {
      "text/plain": [
       "-1.0"
      ]
     },
     "execution_count": 6,
     "metadata": {},
     "output_type": "execute_result"
    }
   ],
   "source": [
    "real[:,1].min()"
   ]
  },
  {
   "cell_type": "code",
   "execution_count": 8,
   "metadata": {},
   "outputs": [
    {
     "name": "stderr",
     "output_type": "stream",
     "text": [
      "/home/mahmoud/anaconda3/lib/python3.6/site-packages/matplotlib/font_manager.py:280: UserWarning: Matplotlib is building the font cache using fc-list. This may take a moment.\n",
      "  'Matplotlib is building the font cache using fc-list. '\n"
     ]
    }
   ],
   "source": [
    "import matplotlib.pyplot as plt"
   ]
  },
  {
   "cell_type": "code",
   "execution_count": 29,
   "metadata": {},
   "outputs": [
    {
     "data": {
      "image/png": "[encoded data removed]",
      "text/plain": [
       "<matplotlib.figure.Figure at 0x7fe14233d748>"
      ]
     },
     "metadata": {},
     "output_type": "display_data"
    },
    {
     "data": {
      "image/png": "[encoded data removed]",
      "text/plain": [
       "<matplotlib.figure.Figure at 0x7fe14275f470>"
      ]
     },
     "metadata": {},
     "output_type": "display_data"
    },
    {
     "data": {
      "image/png": "[encoded data removed]",
      "text/plain": [
       "<matplotlib.figure.Figure at 0x7fe139557fd0>"
      ]
     },
     "metadata": {},
     "output_type": "display_data"
    },
    {
     "data": {
      "image/png": "[encoded data removed]",
      "text/plain": [
       "<matplotlib.figure.Figure at 0x7fe1425c1080>"
      ]
     },
     "metadata": {},
     "output_type": "display_data"
    },
    {
     "data": {
      "image/png": "[encoded data removed]",
      "text/plain": [
       "<matplotlib.figure.Figure at 0x7fe13145af98>"
      ]
     },
     "metadata": {},
     "output_type": "display_data"
    },
    {
     "data": {
      "image/png": "[encoded data removed]",
      "text/plain": [
       "<matplotlib.figure.Figure at 0x7fe1426da9e8>"
      ]
     },
     "metadata": {},
     "output_type": "display_data"
    }
   ],
   "source": [
    "gs = gridspec.GridSpec(6, 2)\n",
    "cols = [3,4,5,6,10,11]\n",
    "\n",
    "\n",
    "\n",
    "for i in range(6):\n",
    "    \n",
    "    #fig.add_subplot(1,1,1)\n",
    "    #ax =plt.subplot((i+1) ,2,1 )  \n",
    "    #plt.cla()\n",
    "    #plt.clf()\n",
    "    plt.subplots_adjust(top=3.92, bottom=0.08, left=0.10, right=0.95, hspace=0.25,\n",
    "                    wspace=0.25)\n",
    "    \n",
    "    \n",
    "    ax =plt.subplot(gs[i,0] )\n",
    "    #ax.set_autoscale_on(False)\n",
    "    #ax.autoscale(False)\n",
    "    ax.set_title(\"Original: Col \" + str(cols[i]+1))\n",
    "    plt.hist( real[:,cols[i]] , bins='auto')\n",
    "    \n",
    "    fig1 = plt.gcf()\n",
    "    \n",
    "    fig1.savefig(\"R_\"+ str(cols[i] + 1) , dpi= 200)\n",
    "    \n",
    "    \n",
    "    ax =plt.subplot(gs[i,1] )\n",
    "    #ax =plt.subplot((i+1) ,2,2 )\n",
    "    #ax.set_autoscale_on(False)\n",
    "    #ax.autoscale(False)\n",
    "    ax.set_title(\"Generated: Col \" + str(cols[i]+1))\n",
    "    plt.hist( fake[:,cols[i]] , bins='auto')\n",
    "    \n",
    "    fig1 = plt.gcf()\n",
    "    fig1.savefig(\"F_\"+ str(cols[i] + 1 ), dpi= 200)\n",
    "    \n",
    "   \n",
    "    \n",
    "    #fig1 = plt.gcf()\n",
    "    #fig1.savefig(\"f\"+ str(cols[i]))\n",
    "    plt.show()\n",
    "    #plt.savefig(\"f\"+ str(i))\n",
    "#fig = plt.figure()\n",
    "#plt.savefig(\"compare2.pdf\" ,  format='pdf')\n",
    "plt.savefig(\"compare2\")\n"
   ]
  },
  {
   "cell_type": "code",
   "execution_count": 23,
   "metadata": {},
   "outputs": [
    {
     "data": {
      "image/png": "[encoded data removed]",
      "text/plain": [
       "<matplotlib.figure.Figure at 0x119ab1080>"
      ]
     },
     "metadata": {},
     "output_type": "display_data"
    }
   ],
   "source": [
    "plt.hist( fake[:,20] , bins='auto')\n",
    "plt.show()"
   ]
  }
 ],
 "metadata": {
  "kernelspec": {
   "display_name": "Python 3",
   "language": "python",
   "name": "python3"
  },
  "language_info": {
   "codemirror_mode": {
    "name": "ipython",
    "version": 3
   },
   "file_extension": ".py",
   "mimetype": "text/x-python",
   "name": "python",
   "nbconvert_exporter": "python",
   "pygments_lexer": "ipython3",
   "version": "3.6.1"
  }
 },
 "nbformat": 4,
 "nbformat_minor": 2
}
