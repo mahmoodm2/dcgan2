{
 "cells": [
  {
   "cell_type": "code",
   "execution_count": 1,
   "metadata": {
    "collapsed": true
   },
   "outputs": [],
   "source": [
    "'''\n",
    "@author: Mahmoud Mohammadi\n",
    "Data Set : https://www.kaggle.com/cityofLA/city-payroll-data \n",
    "\n",
    "'''    \n",
    "\n",
    "import csv\n",
    "import collections as c\n",
    "import math \n",
    "import operator\n",
    "import numpy as np\n",
    "import pandas as pd\n",
    "import collections as c\n",
    "import scipy.spatial.distance as sc\n",
    "import copy\n",
    "import datetime\n",
    "\n",
    "import re\n"
   ]
  },
  {
   "cell_type": "code",
   "execution_count": 2,
   "metadata": {},
   "outputs": [
    {
     "data": {
      "text/html": [
       "<div>\n",
       "<style>\n",
       "    .dataframe thead tr:only-child th {\n",
       "        text-align: right;\n",
       "    }\n",
       "\n",
       "    .dataframe thead th {\n",
       "        text-align: left;\n",
       "    }\n",
       "\n",
       "    .dataframe tbody tr th {\n",
       "        vertical-align: top;\n",
       "    }\n",
       "</style>\n",
       "<table border=\"1\" class=\"dataframe\">\n",
       "  <thead>\n",
       "    <tr style=\"text-align: right;\">\n",
       "      <th></th>\n",
       "      <th>Row ID</th>\n",
       "      <th>Year</th>\n",
       "      <th>Department Title</th>\n",
       "      <th>Payroll Department</th>\n",
       "      <th>Record Number</th>\n",
       "      <th>Job Class Title</th>\n",
       "      <th>Employment Type</th>\n",
       "      <th>Hourly or Event Rate</th>\n",
       "      <th>Projected Annual Salary</th>\n",
       "      <th>Q1 Payments</th>\n",
       "      <th>...</th>\n",
       "      <th>MOU Title</th>\n",
       "      <th>FMS Department</th>\n",
       "      <th>Job Class</th>\n",
       "      <th>Pay Grade</th>\n",
       "      <th>Average Health Cost</th>\n",
       "      <th>Average Dental Cost</th>\n",
       "      <th>Average Basic Life</th>\n",
       "      <th>Average Benefit Cost</th>\n",
       "      <th>Benefits Plan</th>\n",
       "      <th>Job Class Link</th>\n",
       "    </tr>\n",
       "  </thead>\n",
       "  <tbody>\n",
       "    <tr>\n",
       "      <th>0</th>\n",
       "      <td>111391</td>\n",
       "      <td>2014</td>\n",
       "      <td>Water And Power (DWP)</td>\n",
       "      <td>NaN</td>\n",
       "      <td>1412316577</td>\n",
       "      <td>Commercial Service Representative</td>\n",
       "      <td>Full Time</td>\n",
       "      <td>NaN</td>\n",
       "      <td>$70386.48</td>\n",
       "      <td>$16129.89</td>\n",
       "      <td>...</td>\n",
       "      <td>NaN</td>\n",
       "      <td>98</td>\n",
       "      <td>1230</td>\n",
       "      <td>NaN</td>\n",
       "      <td>$16842.08</td>\n",
       "      <td>$1282.61</td>\n",
       "      <td>$0.00</td>\n",
       "      <td>$18124.69</td>\n",
       "      <td>DWP</td>\n",
       "      <td>http://per.lacity.org/perspecs/1230.pdf</td>\n",
       "    </tr>\n",
       "    <tr>\n",
       "      <th>1</th>\n",
       "      <td>31732</td>\n",
       "      <td>2013</td>\n",
       "      <td>Police (LAPD)</td>\n",
       "      <td>4301.0</td>\n",
       "      <td>432728338</td>\n",
       "      <td>Police Officer I</td>\n",
       "      <td>Full Time</td>\n",
       "      <td>$25.12</td>\n",
       "      <td>$52450.56</td>\n",
       "      <td>$11331.00</td>\n",
       "      <td>...</td>\n",
       "      <td>POLICE OFFICERS UNIT</td>\n",
       "      <td>70</td>\n",
       "      <td>2214</td>\n",
       "      <td>A</td>\n",
       "      <td>$11651.40</td>\n",
       "      <td>$898.08</td>\n",
       "      <td>$191.04</td>\n",
       "      <td>$12740.52</td>\n",
       "      <td>Police</td>\n",
       "      <td>http://per.lacity.org/perspecs/2214.pdf</td>\n",
       "    </tr>\n",
       "    <tr>\n",
       "      <th>2</th>\n",
       "      <td>27697</td>\n",
       "      <td>2013</td>\n",
       "      <td>Police (LAPD)</td>\n",
       "      <td>4301.0</td>\n",
       "      <td>97182506</td>\n",
       "      <td>Police Officer II</td>\n",
       "      <td>Full Time</td>\n",
       "      <td>$42.77</td>\n",
       "      <td>$89303.76</td>\n",
       "      <td>$20036.32</td>\n",
       "      <td>...</td>\n",
       "      <td>POLICE OFFICERS UNIT</td>\n",
       "      <td>70</td>\n",
       "      <td>2214</td>\n",
       "      <td>2</td>\n",
       "      <td>$11651.40</td>\n",
       "      <td>$898.08</td>\n",
       "      <td>$191.04</td>\n",
       "      <td>$12740.52</td>\n",
       "      <td>Police</td>\n",
       "      <td>http://per.lacity.org/perspecs/2214.pdf</td>\n",
       "    </tr>\n",
       "    <tr>\n",
       "      <th>3</th>\n",
       "      <td>14136</td>\n",
       "      <td>2013</td>\n",
       "      <td>Harbor (Port of LA)</td>\n",
       "      <td>3201.0</td>\n",
       "      <td>950136941</td>\n",
       "      <td>Senior Security Officer</td>\n",
       "      <td>Full Time</td>\n",
       "      <td>$28.75</td>\n",
       "      <td>$60028.96</td>\n",
       "      <td>$15793.88</td>\n",
       "      <td>...</td>\n",
       "      <td>SUPV BLUE COLLAR</td>\n",
       "      <td>42</td>\n",
       "      <td>3184</td>\n",
       "      <td>0</td>\n",
       "      <td>$10710.24</td>\n",
       "      <td>$405.24</td>\n",
       "      <td>$11.40</td>\n",
       "      <td>$11126.88</td>\n",
       "      <td>City</td>\n",
       "      <td>http://per.lacity.org/perspecs/3184.pdf</td>\n",
       "    </tr>\n",
       "    <tr>\n",
       "      <th>4</th>\n",
       "      <td>91896</td>\n",
       "      <td>2014</td>\n",
       "      <td>Public Works - Sanitation</td>\n",
       "      <td>7024.0</td>\n",
       "      <td>3230003445</td>\n",
       "      <td>Senior Clerk Typist</td>\n",
       "      <td>Full Time</td>\n",
       "      <td>$30.92</td>\n",
       "      <td>$64553.13</td>\n",
       "      <td>$14700.00</td>\n",
       "      <td>...</td>\n",
       "      <td>CLERICAL UNIT</td>\n",
       "      <td>82</td>\n",
       "      <td>1368</td>\n",
       "      <td>0</td>\n",
       "      <td>$11000.40</td>\n",
       "      <td>$409.68</td>\n",
       "      <td>$11.40</td>\n",
       "      <td>$11421.48</td>\n",
       "      <td>City</td>\n",
       "      <td>http://per.lacity.org/perspecs/1368.pdf</td>\n",
       "    </tr>\n",
       "  </tbody>\n",
       "</table>\n",
       "<p>5 rows × 35 columns</p>\n",
       "</div>"
      ],
      "text/plain": [
       "   Row ID  Year           Department Title  Payroll Department Record Number  \\\n",
       "0  111391  2014      Water And Power (DWP)                 NaN    1412316577   \n",
       "1   31732  2013              Police (LAPD)              4301.0     432728338   \n",
       "2   27697  2013              Police (LAPD)              4301.0      97182506   \n",
       "3   14136  2013        Harbor (Port of LA)              3201.0     950136941   \n",
       "4   91896  2014  Public Works - Sanitation              7024.0    3230003445   \n",
       "\n",
       "                     Job Class Title Employment Type Hourly or Event Rate  \\\n",
       "0  Commercial Service Representative       Full Time                  NaN   \n",
       "1                   Police Officer I       Full Time               $25.12   \n",
       "2                  Police Officer II       Full Time               $42.77   \n",
       "3            Senior Security Officer       Full Time               $28.75   \n",
       "4                Senior Clerk Typist       Full Time               $30.92   \n",
       "\n",
       "  Projected Annual Salary Q1 Payments  \\\n",
       "0               $70386.48   $16129.89   \n",
       "1               $52450.56   $11331.00   \n",
       "2               $89303.76   $20036.32   \n",
       "3               $60028.96   $15793.88   \n",
       "4               $64553.13   $14700.00   \n",
       "\n",
       "                    ...                                MOU Title  \\\n",
       "0                   ...                                      NaN   \n",
       "1                   ...                     POLICE OFFICERS UNIT   \n",
       "2                   ...                     POLICE OFFICERS UNIT   \n",
       "3                   ...                         SUPV BLUE COLLAR   \n",
       "4                   ...                            CLERICAL UNIT   \n",
       "\n",
       "  FMS Department Job Class Pay Grade Average Health Cost Average Dental Cost  \\\n",
       "0             98      1230       NaN           $16842.08            $1282.61   \n",
       "1             70      2214         A           $11651.40             $898.08   \n",
       "2             70      2214         2           $11651.40             $898.08   \n",
       "3             42      3184         0           $10710.24             $405.24   \n",
       "4             82      1368         0           $11000.40             $409.68   \n",
       "\n",
       "  Average Basic Life Average Benefit Cost Benefits Plan  \\\n",
       "0              $0.00            $18124.69           DWP   \n",
       "1            $191.04            $12740.52        Police   \n",
       "2            $191.04            $12740.52        Police   \n",
       "3             $11.40            $11126.88          City   \n",
       "4             $11.40            $11421.48          City   \n",
       "\n",
       "                            Job Class Link  \n",
       "0  http://per.lacity.org/perspecs/1230.pdf  \n",
       "1  http://per.lacity.org/perspecs/2214.pdf  \n",
       "2  http://per.lacity.org/perspecs/2214.pdf  \n",
       "3  http://per.lacity.org/perspecs/3184.pdf  \n",
       "4  http://per.lacity.org/perspecs/1368.pdf  \n",
       "\n",
       "[5 rows x 35 columns]"
      ]
     },
     "execution_count": 2,
     "metadata": {},
     "output_type": "execute_result"
    }
   ],
   "source": [
    "basePath =\"data/\"\n",
    "dataset =\"LACity\"\n",
    "dataFile = basePath + \"data.csv\"\n",
    "\n",
    "df = pd.read_csv(dataFile, low_memory=False)\n",
    "\n",
    "df.head()"
   ]
  },
  {
   "cell_type": "code",
   "execution_count": 3,
   "metadata": {},
   "outputs": [
    {
     "data": {
      "text/plain": [
       "25"
      ]
     },
     "execution_count": 3,
     "metadata": {},
     "output_type": "execute_result"
    }
   ],
   "source": [
    "full_columns = ['Row ID', 'Year', 'Department Title', 'Payroll Department',\n",
    "       'Record Number', 'Job Class Title', 'Employment Type',\n",
    "       'Hourly or Event Rate', 'Projected Annual Salary', 'Q1 Payments',\n",
    "       'Q2 Payments', 'Q3 Payments', 'Q4 Payments', 'Payments Over Base Pay',\n",
    "       '% Over Base Pay', 'Total Payments', 'Base Pay', 'Permanent Bonus Pay',\n",
    "       'Longevity Bonus Pay', 'Temporary Bonus Pay', 'Lump Sum Pay',\n",
    "       'Overtime Pay', 'Other Pay & Adjustments',\n",
    "       'Other Pay (Payroll Explorer)', 'MOU', 'MOU Title', 'FMS Department',\n",
    "       'Job Class', 'Pay Grade', 'Average Health Cost', 'Average Dental Cost',\n",
    "       'Average Basic Life', 'Average Benefit Cost', 'Benefits Plan',\n",
    "       'Job Class Link']\n",
    "selected_columns = [ 'Row ID', 'Year',  'Record Number', \n",
    "       'Projected Annual Salary', 'Q1 Payments',\n",
    "       'Q2 Payments', 'Q3 Payments', 'Q4 Payments', 'Payments Over Base Pay',\n",
    "       '% Over Base Pay', 'Total Payments', 'Base Pay', 'Permanent Bonus Pay',\n",
    "       'Longevity Bonus Pay', 'Temporary Bonus Pay', 'Lump Sum Pay',\n",
    "       'Overtime Pay', 'Other Pay & Adjustments',\n",
    "       'Other Pay (Payroll Explorer)',  'FMS Department',\n",
    "       'Job Class', 'Average Health Cost', 'Average Dental Cost',\n",
    "       'Average Basic Life', 'Average Benefit Cost', \n",
    "       ]\n",
    "len(selected_columns)"
   ]
  },
  {
   "cell_type": "code",
   "execution_count": 4,
   "metadata": {},
   "outputs": [
    {
     "data": {
      "text/html": [
       "<div>\n",
       "<style>\n",
       "    .dataframe thead tr:only-child th {\n",
       "        text-align: right;\n",
       "    }\n",
       "\n",
       "    .dataframe thead th {\n",
       "        text-align: left;\n",
       "    }\n",
       "\n",
       "    .dataframe tbody tr th {\n",
       "        vertical-align: top;\n",
       "    }\n",
       "</style>\n",
       "<table border=\"1\" class=\"dataframe\">\n",
       "  <thead>\n",
       "    <tr style=\"text-align: right;\">\n",
       "      <th></th>\n",
       "      <th>Row ID</th>\n",
       "      <th>Year</th>\n",
       "      <th>Record Number</th>\n",
       "      <th>Projected Annual Salary</th>\n",
       "      <th>Q1 Payments</th>\n",
       "      <th>Q2 Payments</th>\n",
       "      <th>Q3 Payments</th>\n",
       "      <th>Q4 Payments</th>\n",
       "      <th>Payments Over Base Pay</th>\n",
       "      <th>% Over Base Pay</th>\n",
       "      <th>...</th>\n",
       "      <th>Lump Sum Pay</th>\n",
       "      <th>Overtime Pay</th>\n",
       "      <th>Other Pay &amp; Adjustments</th>\n",
       "      <th>Other Pay (Payroll Explorer)</th>\n",
       "      <th>FMS Department</th>\n",
       "      <th>Job Class</th>\n",
       "      <th>Average Health Cost</th>\n",
       "      <th>Average Dental Cost</th>\n",
       "      <th>Average Basic Life</th>\n",
       "      <th>Average Benefit Cost</th>\n",
       "    </tr>\n",
       "  </thead>\n",
       "  <tbody>\n",
       "    <tr>\n",
       "      <th>0</th>\n",
       "      <td>111391</td>\n",
       "      <td>2014</td>\n",
       "      <td>1412316577</td>\n",
       "      <td>$70386.48</td>\n",
       "      <td>$16129.89</td>\n",
       "      <td>$17829.78</td>\n",
       "      <td>$17678.24</td>\n",
       "      <td>$22946.57</td>\n",
       "      <td>$14273.91</td>\n",
       "      <td>23.67%</td>\n",
       "      <td>...</td>\n",
       "      <td>NaN</td>\n",
       "      <td>$369.12</td>\n",
       "      <td>$13904.79</td>\n",
       "      <td>$13904.79</td>\n",
       "      <td>98</td>\n",
       "      <td>1230</td>\n",
       "      <td>$16842.08</td>\n",
       "      <td>$1282.61</td>\n",
       "      <td>$0.00</td>\n",
       "      <td>$18124.69</td>\n",
       "    </tr>\n",
       "    <tr>\n",
       "      <th>1</th>\n",
       "      <td>31732</td>\n",
       "      <td>2013</td>\n",
       "      <td>432728338</td>\n",
       "      <td>$52450.56</td>\n",
       "      <td>$11331.00</td>\n",
       "      <td>$13859.93</td>\n",
       "      <td>$11968.32</td>\n",
       "      <td>$14048.20</td>\n",
       "      <td>$1700.40</td>\n",
       "      <td>3.43%</td>\n",
       "      <td>...</td>\n",
       "      <td>$0.00</td>\n",
       "      <td>$11.13</td>\n",
       "      <td>$180.24</td>\n",
       "      <td>$1689.27</td>\n",
       "      <td>70</td>\n",
       "      <td>2214</td>\n",
       "      <td>$11651.40</td>\n",
       "      <td>$898.08</td>\n",
       "      <td>$191.04</td>\n",
       "      <td>$12740.52</td>\n",
       "    </tr>\n",
       "    <tr>\n",
       "      <th>2</th>\n",
       "      <td>27697</td>\n",
       "      <td>2013</td>\n",
       "      <td>97182506</td>\n",
       "      <td>$89303.76</td>\n",
       "      <td>$20036.32</td>\n",
       "      <td>$23479.20</td>\n",
       "      <td>$21153.60</td>\n",
       "      <td>$24360.49</td>\n",
       "      <td>$4120.20</td>\n",
       "      <td>4.85%</td>\n",
       "      <td>...</td>\n",
       "      <td>$0.00</td>\n",
       "      <td>$482.29</td>\n",
       "      <td>$164.40</td>\n",
       "      <td>$3637.91</td>\n",
       "      <td>70</td>\n",
       "      <td>2214</td>\n",
       "      <td>$11651.40</td>\n",
       "      <td>$898.08</td>\n",
       "      <td>$191.04</td>\n",
       "      <td>$12740.52</td>\n",
       "    </tr>\n",
       "    <tr>\n",
       "      <th>3</th>\n",
       "      <td>14136</td>\n",
       "      <td>2013</td>\n",
       "      <td>950136941</td>\n",
       "      <td>$60028.96</td>\n",
       "      <td>$15793.88</td>\n",
       "      <td>$18560.38</td>\n",
       "      <td>$16471.18</td>\n",
       "      <td>$21110.80</td>\n",
       "      <td>$14275.44</td>\n",
       "      <td>24.76%</td>\n",
       "      <td>...</td>\n",
       "      <td>$0.00</td>\n",
       "      <td>$11504.72</td>\n",
       "      <td>$250.00</td>\n",
       "      <td>$2770.72</td>\n",
       "      <td>42</td>\n",
       "      <td>3184</td>\n",
       "      <td>$10710.24</td>\n",
       "      <td>$405.24</td>\n",
       "      <td>$11.40</td>\n",
       "      <td>$11126.88</td>\n",
       "    </tr>\n",
       "    <tr>\n",
       "      <th>4</th>\n",
       "      <td>91896</td>\n",
       "      <td>2014</td>\n",
       "      <td>3230003445</td>\n",
       "      <td>$64553.13</td>\n",
       "      <td>$14700.00</td>\n",
       "      <td>$17313.10</td>\n",
       "      <td>$15257.17</td>\n",
       "      <td>$17313.10</td>\n",
       "      <td>$5191.62</td>\n",
       "      <td>8.74%</td>\n",
       "      <td>...</td>\n",
       "      <td>$0.00</td>\n",
       "      <td>$417.37</td>\n",
       "      <td>$0.00</td>\n",
       "      <td>$4774.25</td>\n",
       "      <td>82</td>\n",
       "      <td>1368</td>\n",
       "      <td>$11000.40</td>\n",
       "      <td>$409.68</td>\n",
       "      <td>$11.40</td>\n",
       "      <td>$11421.48</td>\n",
       "    </tr>\n",
       "  </tbody>\n",
       "</table>\n",
       "<p>5 rows × 25 columns</p>\n",
       "</div>"
      ],
      "text/plain": [
       "   Row ID  Year Record Number Projected Annual Salary Q1 Payments Q2 Payments  \\\n",
       "0  111391  2014    1412316577               $70386.48   $16129.89   $17829.78   \n",
       "1   31732  2013     432728338               $52450.56   $11331.00   $13859.93   \n",
       "2   27697  2013      97182506               $89303.76   $20036.32   $23479.20   \n",
       "3   14136  2013     950136941               $60028.96   $15793.88   $18560.38   \n",
       "4   91896  2014    3230003445               $64553.13   $14700.00   $17313.10   \n",
       "\n",
       "  Q3 Payments Q4 Payments Payments Over Base Pay % Over Base Pay  \\\n",
       "0   $17678.24   $22946.57              $14273.91          23.67%   \n",
       "1   $11968.32   $14048.20               $1700.40           3.43%   \n",
       "2   $21153.60   $24360.49               $4120.20           4.85%   \n",
       "3   $16471.18   $21110.80              $14275.44          24.76%   \n",
       "4   $15257.17   $17313.10               $5191.62           8.74%   \n",
       "\n",
       "           ...          Lump Sum Pay Overtime Pay Other Pay & Adjustments  \\\n",
       "0          ...                   NaN      $369.12               $13904.79   \n",
       "1          ...                 $0.00       $11.13                 $180.24   \n",
       "2          ...                 $0.00      $482.29                 $164.40   \n",
       "3          ...                 $0.00    $11504.72                 $250.00   \n",
       "4          ...                 $0.00      $417.37                   $0.00   \n",
       "\n",
       "  Other Pay (Payroll Explorer) FMS Department Job Class Average Health Cost  \\\n",
       "0                    $13904.79             98      1230           $16842.08   \n",
       "1                     $1689.27             70      2214           $11651.40   \n",
       "2                     $3637.91             70      2214           $11651.40   \n",
       "3                     $2770.72             42      3184           $10710.24   \n",
       "4                     $4774.25             82      1368           $11000.40   \n",
       "\n",
       "  Average Dental Cost Average Basic Life  Average Benefit Cost  \n",
       "0            $1282.61              $0.00             $18124.69  \n",
       "1             $898.08            $191.04             $12740.52  \n",
       "2             $898.08            $191.04             $12740.52  \n",
       "3             $405.24             $11.40             $11126.88  \n",
       "4             $409.68             $11.40             $11421.48  \n",
       "\n",
       "[5 rows x 25 columns]"
      ]
     },
     "execution_count": 4,
     "metadata": {},
     "output_type": "execute_result"
    }
   ],
   "source": [
    "# Selecting 24 columns having numeric data\n",
    "df = df[selected_columns]\n",
    "df.head()"
   ]
  },
  {
   "cell_type": "code",
   "execution_count": 5,
   "metadata": {},
   "outputs": [
    {
     "data": {
      "text/plain": [
       "Row ID                              0\n",
       "Year                                0\n",
       "Record Number                       0\n",
       "Projected Annual Salary             0\n",
       "Q1 Payments                         0\n",
       "Q2 Payments                         0\n",
       "Q3 Payments                         0\n",
       "Q4 Payments                         0\n",
       "Payments Over Base Pay              0\n",
       "% Over Base Pay                     0\n",
       "Total Payments                      0\n",
       "Base Pay                            0\n",
       "Permanent Bonus Pay                 0\n",
       "Longevity Bonus Pay                 0\n",
       "Temporary Bonus Pay                 0\n",
       "Lump Sum Pay                    42264\n",
       "Overtime Pay                      434\n",
       "Other Pay & Adjustments             0\n",
       "Other Pay (Payroll Explorer)        0\n",
       "FMS Department                      0\n",
       "Job Class                           0\n",
       "Average Health Cost                 0\n",
       "Average Dental Cost                 0\n",
       "Average Basic Life                  0\n",
       "Average Benefit Cost                0\n",
       "dtype: int64"
      ]
     },
     "execution_count": 5,
     "metadata": {},
     "output_type": "execute_result"
    }
   ],
   "source": [
    "df.isnull().sum()"
   ]
  },
  {
   "cell_type": "code",
   "execution_count": 6,
   "metadata": {
    "collapsed": true
   },
   "outputs": [],
   "source": [
    "#Finding columns having null vlaues  and replacing them with 0.0\n",
    "#df2 = df.copy()\n",
    "df.fillna(-1. , inplace= True)"
   ]
  },
  {
   "cell_type": "code",
   "execution_count": 7,
   "metadata": {
    "collapsed": true
   },
   "outputs": [],
   "source": [
    "# Replacing non numeric characters such as $ or E in cell values\n",
    "import re\n",
    "theregex = re.compile(r'[^\\d.]+')\n",
    "\n",
    "df = df.astype('str').applymap(lambda x: re.sub(r'[^\\d.-]+', '', x))       \n",
    "\n",
    "# Changing all columns' types to float\n",
    "df = df.astype('float')"
   ]
  },
  {
   "cell_type": "code",
   "execution_count": 53,
   "metadata": {
    "collapsed": true
   },
   "outputs": [],
   "source": [
    "#df2.drop('Label', axis=1, inplace=True)"
   ]
  },
  {
   "cell_type": "code",
   "execution_count": 8,
   "metadata": {},
   "outputs": [
    {
     "data": {
      "text/html": [
       "<div>\n",
       "<style>\n",
       "    .dataframe thead tr:only-child th {\n",
       "        text-align: right;\n",
       "    }\n",
       "\n",
       "    .dataframe thead th {\n",
       "        text-align: left;\n",
       "    }\n",
       "\n",
       "    .dataframe tbody tr th {\n",
       "        vertical-align: top;\n",
       "    }\n",
       "</style>\n",
       "<table border=\"1\" class=\"dataframe\">\n",
       "  <thead>\n",
       "    <tr style=\"text-align: right;\">\n",
       "      <th></th>\n",
       "      <th>Row ID</th>\n",
       "      <th>Year</th>\n",
       "      <th>Record Number</th>\n",
       "      <th>Projected Annual Salary</th>\n",
       "      <th>Q1 Payments</th>\n",
       "      <th>Q2 Payments</th>\n",
       "      <th>Q3 Payments</th>\n",
       "      <th>Q4 Payments</th>\n",
       "      <th>Payments Over Base Pay</th>\n",
       "      <th>% Over Base Pay</th>\n",
       "      <th>...</th>\n",
       "      <th>Lump Sum Pay</th>\n",
       "      <th>Overtime Pay</th>\n",
       "      <th>Other Pay &amp; Adjustments</th>\n",
       "      <th>Other Pay (Payroll Explorer)</th>\n",
       "      <th>FMS Department</th>\n",
       "      <th>Job Class</th>\n",
       "      <th>Average Health Cost</th>\n",
       "      <th>Average Dental Cost</th>\n",
       "      <th>Average Basic Life</th>\n",
       "      <th>Average Benefit Cost</th>\n",
       "    </tr>\n",
       "  </thead>\n",
       "  <tbody>\n",
       "    <tr>\n",
       "      <th>0</th>\n",
       "      <td>111391.0</td>\n",
       "      <td>2014.0</td>\n",
       "      <td>1.412317e+09</td>\n",
       "      <td>70386.48</td>\n",
       "      <td>16129.89</td>\n",
       "      <td>17829.78</td>\n",
       "      <td>17678.24</td>\n",
       "      <td>22946.57</td>\n",
       "      <td>14273.91</td>\n",
       "      <td>23.67</td>\n",
       "      <td>...</td>\n",
       "      <td>-1.0</td>\n",
       "      <td>369.12</td>\n",
       "      <td>13904.79</td>\n",
       "      <td>13904.79</td>\n",
       "      <td>98.0</td>\n",
       "      <td>1230.0</td>\n",
       "      <td>16842.08</td>\n",
       "      <td>1282.61</td>\n",
       "      <td>0.00</td>\n",
       "      <td>18124.69</td>\n",
       "    </tr>\n",
       "    <tr>\n",
       "      <th>1</th>\n",
       "      <td>31732.0</td>\n",
       "      <td>2013.0</td>\n",
       "      <td>4.327283e+08</td>\n",
       "      <td>52450.56</td>\n",
       "      <td>11331.00</td>\n",
       "      <td>13859.93</td>\n",
       "      <td>11968.32</td>\n",
       "      <td>14048.20</td>\n",
       "      <td>1700.40</td>\n",
       "      <td>3.43</td>\n",
       "      <td>...</td>\n",
       "      <td>0.0</td>\n",
       "      <td>11.13</td>\n",
       "      <td>180.24</td>\n",
       "      <td>1689.27</td>\n",
       "      <td>70.0</td>\n",
       "      <td>2214.0</td>\n",
       "      <td>11651.40</td>\n",
       "      <td>898.08</td>\n",
       "      <td>191.04</td>\n",
       "      <td>12740.52</td>\n",
       "    </tr>\n",
       "    <tr>\n",
       "      <th>2</th>\n",
       "      <td>27697.0</td>\n",
       "      <td>2013.0</td>\n",
       "      <td>9.718251e+07</td>\n",
       "      <td>89303.76</td>\n",
       "      <td>20036.32</td>\n",
       "      <td>23479.20</td>\n",
       "      <td>21153.60</td>\n",
       "      <td>24360.49</td>\n",
       "      <td>4120.20</td>\n",
       "      <td>4.85</td>\n",
       "      <td>...</td>\n",
       "      <td>0.0</td>\n",
       "      <td>482.29</td>\n",
       "      <td>164.40</td>\n",
       "      <td>3637.91</td>\n",
       "      <td>70.0</td>\n",
       "      <td>2214.0</td>\n",
       "      <td>11651.40</td>\n",
       "      <td>898.08</td>\n",
       "      <td>191.04</td>\n",
       "      <td>12740.52</td>\n",
       "    </tr>\n",
       "    <tr>\n",
       "      <th>3</th>\n",
       "      <td>14136.0</td>\n",
       "      <td>2013.0</td>\n",
       "      <td>9.501369e+08</td>\n",
       "      <td>60028.96</td>\n",
       "      <td>15793.88</td>\n",
       "      <td>18560.38</td>\n",
       "      <td>16471.18</td>\n",
       "      <td>21110.80</td>\n",
       "      <td>14275.44</td>\n",
       "      <td>24.76</td>\n",
       "      <td>...</td>\n",
       "      <td>0.0</td>\n",
       "      <td>11504.72</td>\n",
       "      <td>250.00</td>\n",
       "      <td>2770.72</td>\n",
       "      <td>42.0</td>\n",
       "      <td>3184.0</td>\n",
       "      <td>10710.24</td>\n",
       "      <td>405.24</td>\n",
       "      <td>11.40</td>\n",
       "      <td>11126.88</td>\n",
       "    </tr>\n",
       "    <tr>\n",
       "      <th>4</th>\n",
       "      <td>91896.0</td>\n",
       "      <td>2014.0</td>\n",
       "      <td>3.230003e+09</td>\n",
       "      <td>64553.13</td>\n",
       "      <td>14700.00</td>\n",
       "      <td>17313.10</td>\n",
       "      <td>15257.17</td>\n",
       "      <td>17313.10</td>\n",
       "      <td>5191.62</td>\n",
       "      <td>8.74</td>\n",
       "      <td>...</td>\n",
       "      <td>0.0</td>\n",
       "      <td>417.37</td>\n",
       "      <td>0.00</td>\n",
       "      <td>4774.25</td>\n",
       "      <td>82.0</td>\n",
       "      <td>1368.0</td>\n",
       "      <td>11000.40</td>\n",
       "      <td>409.68</td>\n",
       "      <td>11.40</td>\n",
       "      <td>11421.48</td>\n",
       "    </tr>\n",
       "  </tbody>\n",
       "</table>\n",
       "<p>5 rows × 25 columns</p>\n",
       "</div>"
      ],
      "text/plain": [
       "     Row ID    Year  Record Number  Projected Annual Salary  Q1 Payments  \\\n",
       "0  111391.0  2014.0   1.412317e+09                 70386.48     16129.89   \n",
       "1   31732.0  2013.0   4.327283e+08                 52450.56     11331.00   \n",
       "2   27697.0  2013.0   9.718251e+07                 89303.76     20036.32   \n",
       "3   14136.0  2013.0   9.501369e+08                 60028.96     15793.88   \n",
       "4   91896.0  2014.0   3.230003e+09                 64553.13     14700.00   \n",
       "\n",
       "   Q2 Payments  Q3 Payments  Q4 Payments  Payments Over Base Pay  \\\n",
       "0     17829.78     17678.24     22946.57                14273.91   \n",
       "1     13859.93     11968.32     14048.20                 1700.40   \n",
       "2     23479.20     21153.60     24360.49                 4120.20   \n",
       "3     18560.38     16471.18     21110.80                14275.44   \n",
       "4     17313.10     15257.17     17313.10                 5191.62   \n",
       "\n",
       "   % Over Base Pay          ...           Lump Sum Pay  Overtime Pay  \\\n",
       "0            23.67          ...                   -1.0        369.12   \n",
       "1             3.43          ...                    0.0         11.13   \n",
       "2             4.85          ...                    0.0        482.29   \n",
       "3            24.76          ...                    0.0      11504.72   \n",
       "4             8.74          ...                    0.0        417.37   \n",
       "\n",
       "   Other Pay & Adjustments  Other Pay (Payroll Explorer)  FMS Department  \\\n",
       "0                 13904.79                      13904.79            98.0   \n",
       "1                   180.24                       1689.27            70.0   \n",
       "2                   164.40                       3637.91            70.0   \n",
       "3                   250.00                       2770.72            42.0   \n",
       "4                     0.00                       4774.25            82.0   \n",
       "\n",
       "   Job Class  Average Health Cost  Average Dental Cost  Average Basic Life  \\\n",
       "0     1230.0             16842.08              1282.61                0.00   \n",
       "1     2214.0             11651.40               898.08              191.04   \n",
       "2     2214.0             11651.40               898.08              191.04   \n",
       "3     3184.0             10710.24               405.24               11.40   \n",
       "4     1368.0             11000.40               409.68               11.40   \n",
       "\n",
       "   Average Benefit Cost  \n",
       "0              18124.69  \n",
       "1              12740.52  \n",
       "2              12740.52  \n",
       "3              11126.88  \n",
       "4              11421.48  \n",
       "\n",
       "[5 rows x 25 columns]"
      ]
     },
     "execution_count": 8,
     "metadata": {},
     "output_type": "execute_result"
    }
   ],
   "source": [
    "df.head()"
   ]
  },
  {
   "cell_type": "code",
   "execution_count": 9,
   "metadata": {
    "collapsed": true
   },
   "outputs": [],
   "source": [
    "# Saving cleaned DataFrame for later use\n",
    "df.to_pickle(\"data/\" + dataset + \"_cleaned.pickle\")"
   ]
  },
  {
   "cell_type": "code",
   "execution_count": 10,
   "metadata": {
    "collapsed": true
   },
   "outputs": [],
   "source": [
    "# min_max is an array containing the Min and Max of each column in every row. \n",
    "# min_max[1,0] = Min(Col[1]) , min_max[1,1] = Max(Col[1]), min_max[2,0] = Min(Col[2]) , min_max[2,1] = Max(Col[2]) , ....\n",
    "\n",
    "col_min = [ min(df[col]) for col in df.columns ]\n",
    "col_max = [ max(df[col]) for col in df.columns ]\n",
    "min_max= np.array([ (x,y) for x,y in zip(col_min, col_max)])\n",
    "\n",
    "\n",
    "import csv\n",
    "# Saving Min and Max of each Dataframe column in a CSV file: [Min Col 0, Max Col 0],...\n",
    "\n",
    "with open(\"data/\"+ dataset + \"_minmax.csv\", 'w') as myfile:\n",
    "    wr = csv.writer(myfile, quoting=csv.QUOTE_ALL)\n",
    "    wr.writerow(min_max)\n",
    "\n"
   ]
  },
  {
   "cell_type": "code",
   "execution_count": 12,
   "metadata": {},
   "outputs": [],
   "source": [
    "# Column-wise Normalizing of raw data in range of -1,1\n",
    "from sklearn import preprocessing\n",
    "\n",
    "\n",
    "min_max_scaler = preprocessing.MinMaxScaler(feature_range=(-1 , 1)) \n",
    "\n",
    "df_scaled = min_max_scaler.fit_transform(df)\n",
    "\n",
    "df_normalized = df.copy()\n",
    "df_normalized = pd.DataFrame(df_scaled)\n"
   ]
  },
  {
   "cell_type": "code",
   "execution_count": 13,
   "metadata": {},
   "outputs": [
    {
     "name": "stdout",
     "output_type": "stream",
     "text": [
      "500930.74 -30728.27 54959.08 63014.63204015281 285008\n"
     ]
    },
    {
     "data": {
      "text/plain": [
       "array([[ 1.        ],\n",
       "       [-1.        ],\n",
       "       [-0.6776605 ],\n",
       "       [-0.64735705]])"
      ]
     },
     "execution_count": 13,
     "metadata": {},
     "output_type": "execute_result"
    }
   ],
   "source": [
    "# Finding Average value of candidate column for labeling the data\n",
    "\n",
    "col =   'Total Payments'             \n",
    "print (max(df[col]) , min(df[col]) , df[col].median() , df[col].mean() , len(df[col] > 5500))\n",
    "\n",
    "x = np.array([500930.73999999999 ,-30728.27,54959.080000000002 , 63014.632040153258 \n",
    "               ])\n",
    "x= x.reshape(-1, 1)\n",
    "ds =min_max_scaler.fit_transform(x)\n",
    "ds"
   ]
  },
  {
   "cell_type": "code",
   "execution_count": 22,
   "metadata": {
    "collapsed": true
   },
   "outputs": [],
   "source": [
    "# Adding a new collumn as label of each record. Will be used for training \n",
    "# -0.64 is the normalized value of the mean of column 9\n",
    "\n",
    "label = np.array([ 1. if x > -0.64 else 0. for x in df_normalized[10]])"
   ]
  },
  {
   "cell_type": "code",
   "execution_count": 23,
   "metadata": {},
   "outputs": [
    {
     "data": {
      "text/plain": [
       "array([[  0.00000000e+00,   1.62690000e+05],\n",
       "       [  1.00000000e+00,   1.22318000e+05]])"
      ]
     },
     "execution_count": 23,
     "metadata": {},
     "output_type": "execute_result"
    }
   ],
   "source": [
    "from scipy.stats import itemfreq\n",
    "\n",
    "itemfreq(label)"
   ]
  },
  {
   "cell_type": "code",
   "execution_count": 190,
   "metadata": {
    "collapsed": true
   },
   "outputs": [],
   "source": [
    "# Saving normalized data with the lable as the last column in a pickle file\n",
    "\n",
    "#label.to_pickle(\"data/y_train_\" + dataset + \".pickle\")"
   ]
  },
  {
   "cell_type": "code",
   "execution_count": 28,
   "metadata": {
    "collapsed": true
   },
   "outputs": [],
   "source": [
    "# Reshaping each row of the DataFrame to 5*5 matrix\n",
    "data_dim = 5\n",
    "ar = np.array(df_normalized.values.tolist())\n",
    "ar = ar.reshape(ar.shape[0] ,data_dim , -1)\n"
   ]
  },
  {
   "cell_type": "code",
   "execution_count": 29,
   "metadata": {},
   "outputs": [
    {
     "data": {
      "text/plain": [
       "(285008, 5, 5)"
      ]
     },
     "execution_count": 29,
     "metadata": {},
     "output_type": "execute_result"
    }
   ],
   "source": [
    "ar.shape"
   ]
  },
  {
   "cell_type": "code",
   "execution_count": 30,
   "metadata": {
    "collapsed": true
   },
   "outputs": [],
   "source": [
    "# Saving reshaped data to be loaded later\n",
    "import pickle\n",
    "\n",
    "with open(\"data/X_train_\" + dataset + \".pickle\", 'wb') as handle:\n",
    "    pickle.dump(ar , handle, protocol=pickle.HIGHEST_PROTOCOL)\n",
    " \n",
    "with open(\"data/y_train_\" + dataset + \".pickle\", 'wb') as handle2:\n",
    "    pickle.dump(label, handle2, protocol=pickle.HIGHEST_PROTOCOL)\n",
    "    \n",
    "    "
   ]
  },
  {
   "cell_type": "code",
   "execution_count": 40,
   "metadata": {
    "collapsed": true
   },
   "outputs": [],
   "source": [
    "with open(\"data/y_train_\" + dataset + \".pickle\", 'rb') as handle:\n",
    "    y = pickle.load(handle)"
   ]
  },
  {
   "cell_type": "code",
   "execution_count": 41,
   "metadata": {},
   "outputs": [
    {
     "name": "stdout",
     "output_type": "stream",
     "text": [
      "(285008,)\n"
     ]
    },
    {
     "data": {
      "text/plain": [
       "array([ True,  True], dtype=bool)"
      ]
     },
     "execution_count": 41,
     "metadata": {},
     "output_type": "execute_result"
    }
   ],
   "source": [
    "# Should be similar to saved one \n",
    "print( str( y.shape))\n",
    "y[0:2] == label[0:2]"
   ]
  },
  {
   "cell_type": "code",
   "execution_count": 46,
   "metadata": {},
   "outputs": [
    {
     "name": "stdout",
     "output_type": "stream",
     "text": [
      "(285008, 2)\n"
     ]
    }
   ],
   "source": [
    "y = y.astype(np.int)\n",
    "y_dim = 2\n",
    "y_vec = np.zeros((len(y), y_dim), dtype=np.float)\n",
    "print(y_vec.shape)\n",
    "for i, l in enumerate(y):\n",
    "    y_vec[i, y[i]] = 1.0"
   ]
  },
  {
   "cell_type": "code",
   "execution_count": 47,
   "metadata": {},
   "outputs": [
    {
     "data": {
      "text/plain": [
       "array([[ 0.,  1.],\n",
       "       [ 1.,  0.],\n",
       "       [ 0.,  1.],\n",
       "       ..., \n",
       "       [ 0.,  1.],\n",
       "       [ 0.,  1.],\n",
       "       [ 0.,  1.]])"
      ]
     },
     "execution_count": 47,
     "metadata": {},
     "output_type": "execute_result"
    }
   ],
   "source": [
    "y_vec"
   ]
  },
  {
   "cell_type": "code",
   "execution_count": 220,
   "metadata": {},
   "outputs": [
    {
     "name": "stdout",
     "output_type": "stream",
     "text": [
      "4453\n"
     ]
    }
   ],
   "source": [
    "idx= 0\n",
    "batch_size = 64\n",
    "train_size =np.inf \n",
    "batch_idxs = min(len(df_loaded), train_size) // batch_size # config.batch_size\n",
    "grayscale = True\n",
    "print(batch_idxs)"
   ]
  },
  {
   "cell_type": "code",
   "execution_count": 221,
   "metadata": {
    "collapsed": true
   },
   "outputs": [],
   "source": [
    "c = 0\n",
    "for idx in range(0, batch_idxs):\n",
    "    batch = df_loaded[idx *  batch_size : (idx + 1) * batch_size]\n",
    "\n",
    "    batch_images = np.array(batch).astype(np.float32)\n",
    "    c =c + 1"
   ]
  },
  {
   "cell_type": "code",
   "execution_count": 222,
   "metadata": {},
   "outputs": [
    {
     "data": {
      "text/plain": [
       "(4453, (64, 5, 5), 285008)"
      ]
     },
     "execution_count": 222,
     "metadata": {},
     "output_type": "execute_result"
    }
   ],
   "source": [
    "c , batch_images.shape , len(df_loaded)"
   ]
  },
  {
   "cell_type": "code",
   "execution_count": 224,
   "metadata": {},
   "outputs": [
    {
     "data": {
      "text/plain": [
       "(16, 5, 5)"
      ]
     },
     "execution_count": 224,
     "metadata": {},
     "output_type": "execute_result"
    }
   ],
   "source": [
    "idx  = 4453\n",
    "batch = df_loaded[idx *  batch_size : (idx + 1) * batch_size]\n",
    "\n",
    "batch_images = np.array(batch).astype(np.float32)\n",
    "\n",
    "batch_images.shape"
   ]
  }
 ],
 "metadata": {
  "kernelspec": {
   "display_name": "Python 3",
   "language": "python",
   "name": "python3"
  },
  "language_info": {
   "codemirror_mode": {
    "name": "ipython",
    "version": 3
   },
   "file_extension": ".py",
   "mimetype": "text/x-python",
   "name": "python",
   "nbconvert_exporter": "python",
   "pygments_lexer": "ipython3",
   "version": "3.6.1"
  }
 },
 "nbformat": 4,
 "nbformat_minor": 2
}
