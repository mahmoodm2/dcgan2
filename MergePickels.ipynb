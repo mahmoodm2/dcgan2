{
 "cells": [
  {
   "cell_type": "code",
   "execution_count": 1,
   "metadata": {},
   "outputs": [
    {
     "name": "stdout",
     "output_type": "stream",
     "text": [
      "Requirement already satisfied: xlwt in /home/mmoham12/Applications/anaconda3/lib/python3.6/site-packages\r\n"
     ]
    }
   ],
   "source": [
    "!pip install xlwt"
   ]
  },
  {
   "cell_type": "code",
   "execution_count": 2,
   "metadata": {},
   "outputs": [
    {
     "name": "stdout",
     "output_type": "stream",
     "text": [
      "Requirement already satisfied: openpyxl in /home/mmoham12/Applications/anaconda3/lib/python3.6/site-packages\r\n",
      "Requirement already satisfied: jdcal in /home/mmoham12/Applications/anaconda3/lib/python3.6/site-packages (from openpyxl)\r\n",
      "Requirement already satisfied: et_xmlfile in /home/mmoham12/Applications/anaconda3/lib/python3.6/site-packages (from openpyxl)\r\n"
     ]
    }
   ],
   "source": [
    "!pip install openpyxl"
   ]
  },
  {
   "cell_type": "code",
   "execution_count": 19,
   "metadata": {
    "collapsed": true
   },
   "outputs": [],
   "source": [
    "import os\n",
    "\n",
    "from openpyxl import Workbook\n",
    "from openpyxl import load_workbook"
   ]
  },
  {
   "cell_type": "code",
   "execution_count": 47,
   "metadata": {},
   "outputs": [],
   "source": [
    "wb = Workbook()\n",
    "save_dir=\"\"\n",
    "if os.path.isfile(save_dir + \"resultMM.xlsx\"):\n",
    "    wb = load_workbook(save_dir + \"resultMM.xlsx\") \n",
    "else:\n",
    "    wb = Workbook() \n",
    "\n",
    "sh = wb.active\n",
    "\n",
    "xrow= sh.max_row \n",
    "  # sh = book.add_sheet(\"results\")\n",
    "sh.cell\n",
    "c =sh.cell( row= xrow , column=1) \n",
    "c.value= \"test_id\" + str(xrow)\n",
    "\n",
    "sh.cell( row= xrow + 1, column=1).value= \"test_id X \" + str(xrow + 1 )\n",
    "# c.value= \"test_id X \" + str(xrow + 1 )\n",
    "\n",
    "wb.save(\"resultMM.xlsx\")"
   ]
  },
  {
   "cell_type": "code",
   "execution_count": 103,
   "metadata": {
    "collapsed": true
   },
   "outputs": [],
   "source": [
    "import pickle\n",
    "import numpy as np\n",
    "import os\n",
    "import pandas as pd\n",
    "import csv\n",
    "import datetime"
   ]
  },
  {
   "cell_type": "markdown",
   "metadata": {},
   "source": [
    "### Reading and Merging the generated samples"
   ]
  },
  {
   "cell_type": "code",
   "execution_count": 108,
   "metadata": {
    "collapsed": true
   },
   "outputs": [],
   "source": [
    "input_size = 15000\n",
    "batch_size = 64\n",
    "dim = 16\n",
    "dataset =\"LACity\""
   ]
  },
  {
   "cell_type": "code",
   "execution_count": 104,
   "metadata": {
    "collapsed": true
   },
   "outputs": [
    {
     "ename": "FileNotFoundError",
     "evalue": "[Errno 2] No such file or directory: 'samples/sample_0000.pickle'",
     "output_type": "error",
     "traceback": [
      "\u001b[0;31m---------------------------------------------------------------------------\u001b[0m",
      "\u001b[0;31mFileNotFoundError\u001b[0m                         Traceback (most recent call last)",
      "\u001b[0;32m<ipython-input-104-7bd194c9c0e3>\u001b[0m in \u001b[0;36m<module>\u001b[0;34m()\u001b[0m\n\u001b[1;32m      6\u001b[0m \u001b[0;32mfor\u001b[0m \u001b[0midx\u001b[0m \u001b[0;32min\u001b[0m \u001b[0mrange\u001b[0m\u001b[0;34m(\u001b[0m\u001b[0minput_size\u001b[0m \u001b[0;34m//\u001b[0m \u001b[0mbatch_size\u001b[0m\u001b[0;34m)\u001b[0m\u001b[0;34m:\u001b[0m\u001b[0;34m\u001b[0m\u001b[0m\n\u001b[1;32m      7\u001b[0m     \u001b[0;31m#print(\"%04d\" % idx)\u001b[0m\u001b[0;34m\u001b[0m\u001b[0;34m\u001b[0m\u001b[0m\n\u001b[0;32m----> 8\u001b[0;31m     \u001b[0;32mwith\u001b[0m \u001b[0mopen\u001b[0m\u001b[0;34m(\u001b[0m \u001b[0;34m\"samples/sample_%04d.pickle\"\u001b[0m \u001b[0;34m%\u001b[0m \u001b[0midx\u001b[0m \u001b[0;34m,\u001b[0m \u001b[0;34m'rb'\u001b[0m \u001b[0;34m)\u001b[0m \u001b[0;32mas\u001b[0m \u001b[0mhandle\u001b[0m\u001b[0;34m:\u001b[0m\u001b[0;34m\u001b[0m\u001b[0m\n\u001b[0m\u001b[1;32m      9\u001b[0m         \u001b[0mdf\u001b[0m \u001b[0;34m=\u001b[0m \u001b[0mnp\u001b[0m\u001b[0;34m.\u001b[0m\u001b[0marray\u001b[0m\u001b[0;34m(\u001b[0m\u001b[0mpickle\u001b[0m\u001b[0;34m.\u001b[0m\u001b[0mload\u001b[0m\u001b[0;34m(\u001b[0m\u001b[0mhandle\u001b[0m\u001b[0;34m)\u001b[0m\u001b[0;34m)\u001b[0m\u001b[0;34m\u001b[0m\u001b[0m\n\u001b[1;32m     10\u001b[0m \u001b[0;34m\u001b[0m\u001b[0m\n",
      "\u001b[0;31mFileNotFoundError\u001b[0m: [Errno 2] No such file or directory: 'samples/sample_0000.pickle'"
     ]
    }
   ],
   "source": [
    "data =np.ndarray([batch_size * (input_size // batch_size) , dim ,dim], dtype=float) # 64 * 234, 16 , 16\n",
    "\n",
    "for idx in range(input_size // batch_size):\n",
    "    #print(\"%04d\" % idx)\n",
    "    with open( \"samples/sample_%04d.pickle\" % idx , 'rb' ) as handle:\n",
    "        df = np.array(pickle.load(handle))\n",
    "            \n",
    "    data[idx * batch_size : (idx+1) * batch_size] = df.reshape(df.shape[0],df.shape[1],df.shape[2]) # 64 ,16,16\n",
    "    \n",
    "    \n",
    "   "
   ]
  },
  {
   "cell_type": "code",
   "execution_count": 105,
   "metadata": {
    "collapsed": true
   },
   "outputs": [],
   "source": [
    "with open('samples_merged.pickle' ,'rb') as handle: # data  = numpyarra = records * 256\n",
    "    data = pickle.load(handle)"
   ]
  },
  {
   "cell_type": "code",
   "execution_count": 109,
   "metadata": {},
   "outputs": [
    {
     "data": {
      "text/plain": [
       "(14976, 256)"
      ]
     },
     "execution_count": 109,
     "metadata": {},
     "output_type": "execute_result"
    }
   ],
   "source": [
    "data.shape"
   ]
  },
  {
   "cell_type": "code",
   "execution_count": 98,
   "metadata": {},
   "outputs": [
    {
     "data": {
      "text/plain": [
       "(14976, 16, 16)"
      ]
     },
     "execution_count": 98,
     "metadata": {},
     "output_type": "execute_result"
    }
   ],
   "source": [
    "#data.shape"
   ]
  },
  {
   "cell_type": "code",
   "execution_count": 111,
   "metadata": {
    "collapsed": true
   },
   "outputs": [],
   "source": [
    "#df.to_pickle(\"data/\" + dataset + \"_samples_merged.pickle\")\n",
    "with open(\"data/\" +dataset + \"_fake_array2.pickle\" , 'wb') as handle:\n",
    "    pickle.dump(data , handle, protocol=pickle.HIGHEST_PROTOCOL)\n",
    "\n"
   ]
  },
  {
   "cell_type": "markdown",
   "metadata": {},
   "source": [
    "### Saving Mereged Samples as Excel Format"
   ]
  },
  {
   "cell_type": "code",
   "execution_count": 107,
   "metadata": {},
   "outputs": [
    {
     "ename": "IndexError",
     "evalue": "tuple index out of range",
     "output_type": "error",
     "traceback": [
      "\u001b[0;31m---------------------------------------------------------------------------\u001b[0m",
      "\u001b[0;31mIndexError\u001b[0m                                Traceback (most recent call last)",
      "\u001b[0;32m<ipython-input-107-9d00944b2323>\u001b[0m in \u001b[0;36m<module>\u001b[0;34m()\u001b[0m\n\u001b[0;32m----> 1\u001b[0;31m \u001b[0mdata\u001b[0m \u001b[0;34m=\u001b[0m \u001b[0mdata\u001b[0m\u001b[0;34m.\u001b[0m\u001b[0mreshape\u001b[0m\u001b[0;34m(\u001b[0m \u001b[0mdata\u001b[0m\u001b[0;34m.\u001b[0m\u001b[0mshape\u001b[0m\u001b[0;34m[\u001b[0m\u001b[0;36m0\u001b[0m\u001b[0;34m]\u001b[0m \u001b[0;34m,\u001b[0m \u001b[0mdata\u001b[0m\u001b[0;34m.\u001b[0m\u001b[0mshape\u001b[0m\u001b[0;34m[\u001b[0m\u001b[0;36m1\u001b[0m\u001b[0;34m]\u001b[0m \u001b[0;34m*\u001b[0m \u001b[0mdata\u001b[0m\u001b[0;34m.\u001b[0m\u001b[0mshape\u001b[0m\u001b[0;34m[\u001b[0m\u001b[0;36m2\u001b[0m\u001b[0;34m]\u001b[0m\u001b[0;34m)\u001b[0m\u001b[0;34m\u001b[0m\u001b[0m\n\u001b[0m\u001b[1;32m      2\u001b[0m \u001b[0mdata\u001b[0m\u001b[0;34m.\u001b[0m\u001b[0mshape\u001b[0m\u001b[0;34m\u001b[0m\u001b[0m\n",
      "\u001b[0;31mIndexError\u001b[0m: tuple index out of range"
     ]
    }
   ],
   "source": [
    "data = data.reshape( data.shape[0] , data.shape[1] * data.shape[2]) # [64 , 16*16=256]\n",
    "\n",
    "\n",
    "df = pd.DataFrame(data)\n",
    "df.to_excel(\"data/\"+dataset +\"_fake.xlsx\", index=False)"
   ]
  },
  {
   "cell_type": "code",
   "execution_count": 100,
   "metadata": {},
   "outputs": [
    {
     "data": {
      "text/html": [
       "<div>\n",
       "<style>\n",
       "    .dataframe thead tr:only-child th {\n",
       "        text-align: right;\n",
       "    }\n",
       "\n",
       "    .dataframe thead th {\n",
       "        text-align: left;\n",
       "    }\n",
       "\n",
       "    .dataframe tbody tr th {\n",
       "        vertical-align: top;\n",
       "    }\n",
       "</style>\n",
       "<table border=\"1\" class=\"dataframe\">\n",
       "  <thead>\n",
       "    <tr style=\"text-align: right;\">\n",
       "      <th></th>\n",
       "      <th>0</th>\n",
       "      <th>1</th>\n",
       "      <th>2</th>\n",
       "      <th>3</th>\n",
       "      <th>4</th>\n",
       "      <th>5</th>\n",
       "      <th>6</th>\n",
       "      <th>7</th>\n",
       "      <th>8</th>\n",
       "      <th>9</th>\n",
       "      <th>...</th>\n",
       "      <th>246</th>\n",
       "      <th>247</th>\n",
       "      <th>248</th>\n",
       "      <th>249</th>\n",
       "      <th>250</th>\n",
       "      <th>251</th>\n",
       "      <th>252</th>\n",
       "      <th>253</th>\n",
       "      <th>254</th>\n",
       "      <th>255</th>\n",
       "    </tr>\n",
       "  </thead>\n",
       "  <tbody>\n",
       "    <tr>\n",
       "      <th>0</th>\n",
       "      <td>-0.815395</td>\n",
       "      <td>0.735276</td>\n",
       "      <td>-0.832552</td>\n",
       "      <td>-0.106430</td>\n",
       "      <td>-0.347852</td>\n",
       "      <td>0.503204</td>\n",
       "      <td>-0.989910</td>\n",
       "      <td>-0.946405</td>\n",
       "      <td>-0.216065</td>\n",
       "      <td>-0.804752</td>\n",
       "      <td>...</td>\n",
       "      <td>0.176906</td>\n",
       "      <td>0.152535</td>\n",
       "      <td>0.415329</td>\n",
       "      <td>0.056478</td>\n",
       "      <td>-0.190819</td>\n",
       "      <td>0.125470</td>\n",
       "      <td>0.559789</td>\n",
       "      <td>-0.076673</td>\n",
       "      <td>0.099058</td>\n",
       "      <td>-0.059428</td>\n",
       "    </tr>\n",
       "    <tr>\n",
       "      <th>1</th>\n",
       "      <td>-0.381510</td>\n",
       "      <td>0.559979</td>\n",
       "      <td>-0.540594</td>\n",
       "      <td>-0.793046</td>\n",
       "      <td>-0.871217</td>\n",
       "      <td>-0.497144</td>\n",
       "      <td>-0.991303</td>\n",
       "      <td>-0.757508</td>\n",
       "      <td>-0.359159</td>\n",
       "      <td>-0.581531</td>\n",
       "      <td>...</td>\n",
       "      <td>0.242817</td>\n",
       "      <td>0.056719</td>\n",
       "      <td>0.389412</td>\n",
       "      <td>-0.044020</td>\n",
       "      <td>-0.131992</td>\n",
       "      <td>0.040670</td>\n",
       "      <td>0.480033</td>\n",
       "      <td>-0.100186</td>\n",
       "      <td>0.104375</td>\n",
       "      <td>-0.047181</td>\n",
       "    </tr>\n",
       "    <tr>\n",
       "      <th>2</th>\n",
       "      <td>-0.599722</td>\n",
       "      <td>0.778216</td>\n",
       "      <td>-0.717035</td>\n",
       "      <td>-0.844264</td>\n",
       "      <td>-0.838704</td>\n",
       "      <td>-0.365664</td>\n",
       "      <td>-0.997751</td>\n",
       "      <td>-0.733524</td>\n",
       "      <td>-0.259674</td>\n",
       "      <td>-0.101977</td>\n",
       "      <td>...</td>\n",
       "      <td>0.343235</td>\n",
       "      <td>0.051810</td>\n",
       "      <td>0.473736</td>\n",
       "      <td>-0.036622</td>\n",
       "      <td>-0.207462</td>\n",
       "      <td>0.050292</td>\n",
       "      <td>0.581012</td>\n",
       "      <td>-0.145768</td>\n",
       "      <td>0.146271</td>\n",
       "      <td>-0.028023</td>\n",
       "    </tr>\n",
       "    <tr>\n",
       "      <th>3</th>\n",
       "      <td>0.060992</td>\n",
       "      <td>0.588202</td>\n",
       "      <td>0.073534</td>\n",
       "      <td>-0.862078</td>\n",
       "      <td>-0.760598</td>\n",
       "      <td>0.548987</td>\n",
       "      <td>-0.968326</td>\n",
       "      <td>-0.995593</td>\n",
       "      <td>-0.883896</td>\n",
       "      <td>-0.940378</td>\n",
       "      <td>...</td>\n",
       "      <td>0.224887</td>\n",
       "      <td>0.100636</td>\n",
       "      <td>0.367583</td>\n",
       "      <td>-0.040932</td>\n",
       "      <td>-0.192741</td>\n",
       "      <td>0.067377</td>\n",
       "      <td>0.540342</td>\n",
       "      <td>-0.074532</td>\n",
       "      <td>0.136109</td>\n",
       "      <td>-0.099899</td>\n",
       "    </tr>\n",
       "    <tr>\n",
       "      <th>4</th>\n",
       "      <td>-0.590799</td>\n",
       "      <td>0.217362</td>\n",
       "      <td>-0.581285</td>\n",
       "      <td>0.185616</td>\n",
       "      <td>-0.299528</td>\n",
       "      <td>-0.217515</td>\n",
       "      <td>-0.897154</td>\n",
       "      <td>-0.570159</td>\n",
       "      <td>-0.227315</td>\n",
       "      <td>-0.882273</td>\n",
       "      <td>...</td>\n",
       "      <td>0.003101</td>\n",
       "      <td>0.096034</td>\n",
       "      <td>0.221412</td>\n",
       "      <td>0.088902</td>\n",
       "      <td>-0.029192</td>\n",
       "      <td>0.082144</td>\n",
       "      <td>0.376652</td>\n",
       "      <td>-0.006821</td>\n",
       "      <td>0.063794</td>\n",
       "      <td>-0.051922</td>\n",
       "    </tr>\n",
       "  </tbody>\n",
       "</table>\n",
       "<p>5 rows × 256 columns</p>\n",
       "</div>"
      ],
      "text/plain": [
       "        0         1         2         3         4         5         6    \\\n",
       "0 -0.815395  0.735276 -0.832552 -0.106430 -0.347852  0.503204 -0.989910   \n",
       "1 -0.381510  0.559979 -0.540594 -0.793046 -0.871217 -0.497144 -0.991303   \n",
       "2 -0.599722  0.778216 -0.717035 -0.844264 -0.838704 -0.365664 -0.997751   \n",
       "3  0.060992  0.588202  0.073534 -0.862078 -0.760598  0.548987 -0.968326   \n",
       "4 -0.590799  0.217362 -0.581285  0.185616 -0.299528 -0.217515 -0.897154   \n",
       "\n",
       "        7         8         9      ...          246       247       248  \\\n",
       "0 -0.946405 -0.216065 -0.804752    ...     0.176906  0.152535  0.415329   \n",
       "1 -0.757508 -0.359159 -0.581531    ...     0.242817  0.056719  0.389412   \n",
       "2 -0.733524 -0.259674 -0.101977    ...     0.343235  0.051810  0.473736   \n",
       "3 -0.995593 -0.883896 -0.940378    ...     0.224887  0.100636  0.367583   \n",
       "4 -0.570159 -0.227315 -0.882273    ...     0.003101  0.096034  0.221412   \n",
       "\n",
       "        249       250       251       252       253       254       255  \n",
       "0  0.056478 -0.190819  0.125470  0.559789 -0.076673  0.099058 -0.059428  \n",
       "1 -0.044020 -0.131992  0.040670  0.480033 -0.100186  0.104375 -0.047181  \n",
       "2 -0.036622 -0.207462  0.050292  0.581012 -0.145768  0.146271 -0.028023  \n",
       "3 -0.040932 -0.192741  0.067377  0.540342 -0.074532  0.136109 -0.099899  \n",
       "4  0.088902 -0.029192  0.082144  0.376652 -0.006821  0.063794 -0.051922  \n",
       "\n",
       "[5 rows x 256 columns]"
      ]
     },
     "execution_count": 100,
     "metadata": {},
     "output_type": "execute_result"
    }
   ],
   "source": [
    "df.head()"
   ]
  }
 ],
 "metadata": {
  "kernelspec": {
   "display_name": "Python 3",
   "language": "python",
   "name": "python3"
  },
  "language_info": {
   "codemirror_mode": {
    "name": "ipython",
    "version": 3
   },
   "file_extension": ".py",
   "mimetype": "text/x-python",
   "name": "python",
   "nbconvert_exporter": "python",
   "pygments_lexer": "ipython3",
   "version": "3.6.1"
  }
 },
 "nbformat": 4,
 "nbformat_minor": 2
}
