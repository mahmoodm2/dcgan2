{
 "cells": [
  {
   "cell_type": "code",
   "execution_count": 1,
   "metadata": {
    "collapsed": true
   },
   "outputs": [],
   "source": [
    "import pickle\n",
    "import numpy as np\n",
    "import os\n",
    "import pandas as pd\n",
    "import csv\n",
    "import datetime"
   ]
  },
  {
   "cell_type": "code",
   "execution_count": 85,
   "metadata": {},
   "outputs": [],
   "source": [
    "input_size = 15000\n",
    "batch_size = 64\n",
    "dim = 16\n",
    "data =np.ndarray([batch_size * (input_size // batch_size) , dim ,dim], dtype=float)\n",
    "\n",
    "for idx in range(input_size // batch_size):\n",
    "    #print(\"%04d\" % idx)\n",
    "    with open( \"samples/sample_%04d.pickle\" % idx , 'rb' ) as handle:\n",
    "        df = np.array(pickle.load(handle))\n",
    "            \n",
    "    data[idx * batch_size : (idx+1) * batch_size] = df.reshape(df.shape[0],df.shape[1],df.shape[2])\n",
    "    \n",
    "    \n",
    "   "
   ]
  },
  {
   "cell_type": "code",
   "execution_count": 86,
   "metadata": {},
   "outputs": [
    {
     "data": {
      "text/plain": [
       "(14976, 16, 16)"
      ]
     },
     "execution_count": 86,
     "metadata": {},
     "output_type": "execute_result"
    }
   ],
   "source": [
    "data.shape"
   ]
  },
  {
   "cell_type": "code",
   "execution_count": 87,
   "metadata": {
    "collapsed": true
   },
   "outputs": [],
   "source": [
    "data = data.reshape( data.shape[0] , data.shape[1] * data.shape[2])\n",
    "\n",
    "dataset =\"LACity\"\n",
    "\n",
    "with open(\"data/\" + dataset + \"_samples_merged.pickle\", 'wb') as handle:\n",
    "    pickle.dump(data , handle)"
   ]
  },
  {
   "cell_type": "code",
   "execution_count": 88,
   "metadata": {},
   "outputs": [
    {
     "data": {
      "text/plain": [
       "(14976, 256)"
      ]
     },
     "execution_count": 88,
     "metadata": {},
     "output_type": "execute_result"
    }
   ],
   "source": [
    "data.shape"
   ]
  }
 ],
 "metadata": {
  "kernelspec": {
   "display_name": "Python 3",
   "language": "python",
   "name": "python3"
  },
  "language_info": {
   "codemirror_mode": {
    "name": "ipython",
    "version": 3
   },
   "file_extension": ".py",
   "mimetype": "text/x-python",
   "name": "python",
   "nbconvert_exporter": "python",
   "pygments_lexer": "ipython3",
   "version": "3.6.1"
  }
 },
 "nbformat": 4,
 "nbformat_minor": 2
}
