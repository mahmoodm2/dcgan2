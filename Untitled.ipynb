{
 "cells": [
  {
   "cell_type": "code",
   "execution_count": 29,
   "metadata": {
    "collapsed": true
   },
   "outputs": [],
   "source": [
    "import numpy as np\n",
    "\n",
    "from __future__ import division\n",
    "import os\n",
    "import time\n",
    "import math\n",
    "from glob import glob\n",
    "\n",
    "import numpy as np\n",
    "from six.moves import xrange\n",
    "\n",
    "\n",
    "from utils import *\n",
    "\n",
    "import pandas as pd \n"
   ]
  },
  {
   "cell_type": "code",
   "execution_count": 21,
   "metadata": {},
   "outputs": [
    {
     "name": "stdout",
     "output_type": "stream",
     "text": [
      "[[1 2 5 7]\n",
      " [3 4 6 8]]\n"
     ]
    },
    {
     "data": {
      "text/plain": [
       "((2, 2), (2, 2), (2, 4))"
      ]
     },
     "execution_count": 21,
     "metadata": {},
     "output_type": "execute_result"
    }
   ],
   "source": [
    "a = np.array([[1, 2], [3, 4]])\n",
    "b = np.array([[5, 6] , [ 7,8]])\n",
    "y=np.concatenate((a, b.T), axis=1)\n",
    "print(y)\n",
    "a.shape , b.shape , y.shape"
   ]
  },
  {
   "cell_type": "code",
   "execution_count": 62,
   "metadata": {},
   "outputs": [
    {
     "name": "stdout",
     "output_type": "stream",
     "text": [
      "1\n"
     ]
    }
   ],
   "source": [
    "ds =\"nomoa\"\n",
    "if ds in [\"LACity\",\"nomoa\"]:\n",
    "            print(1)\n",
    "        "
   ]
  },
  {
   "cell_type": "code",
   "execution_count": 56,
   "metadata": {
    "collapsed": true
   },
   "outputs": [],
   "source": [
    "def load_mnist(y_dim):\n",
    "        data_dir = os.path.join(\"./data\",\"mnist\")\n",
    "\n",
    "#         fd = open(os.path.join(data_dir, 'train-images-idx3-ubyte'))\n",
    "#         loaded = np.fromfile(file=fd, dtype=np.uint8)\n",
    "#         trX = loaded[16:].reshape((60000, 28, 28, 1)).astype(np.float)\n",
    "\n",
    "        fd = open(os.path.join(data_dir, 'train-labels-idx1-ubyte'))\n",
    "        loaded = np.fromfile(file=fd, dtype=np.uint8)\n",
    "        trY = loaded[8:].reshape((60000)).astype(np.float)\n",
    "\n",
    "#         fd = open(os.path.join(data_dir, 't10k-images-idx3-ubyte'))\n",
    "#         loaded = np.fromfile(file=fd, dtype=np.uint8)\n",
    "#         teX = loaded[16:].reshape((10000, 28, 28, 1)).astype(np.float)\n",
    "\n",
    "        fd = open(os.path.join(data_dir, 't10k-labels-idx1-ubyte'))\n",
    "        loaded = np.fromfile(file=fd, dtype=np.uint8)\n",
    "        teY = loaded[8:].reshape((10000)).astype(np.float)\n",
    "\n",
    "        print( trY.shape , teY.shape )\n",
    "        \n",
    "        trY = np.asarray(trY)\n",
    "        teY = np.asarray(teY)\n",
    "\n",
    "        print( trY.shape , teY.shape )\n",
    "        \n",
    "        #X = np.concatenate((trX, teX), axis=0)\n",
    "        y = np.concatenate((trY, teY), axis=0).astype(np.int)\n",
    "\n",
    "        print( \"Y = \" + str(y.shape) )\n",
    "        \n",
    "        seed = 547\n",
    "        np.random.seed(seed)\n",
    "        #np.random.shuffle(X)\n",
    "        np.random.seed(seed)\n",
    "        np.random.shuffle(y)\n",
    "\n",
    "        y_vec = np.zeros((len(y), y_dim), dtype=np.float)\n",
    "        for i, label in enumerate(y):\n",
    "            y_vec[i, y[i]] = 1.0\n",
    "\n",
    "        return  y_vec"
   ]
  },
  {
   "cell_type": "code",
   "execution_count": 57,
   "metadata": {},
   "outputs": [
    {
     "name": "stdout",
     "output_type": "stream",
     "text": [
      "(60000,) (10000,)\n",
      "(60000,) (10000,)\n",
      "Y = (70000,)\n"
     ]
    },
    {
     "data": {
      "text/plain": [
       "array([[ 0.,  0.,  0., ...,  1.,  0.,  0.],\n",
       "       [ 0.,  0.,  0., ...,  0.,  0.,  0.],\n",
       "       [ 0.,  1.,  0., ...,  0.,  0.,  0.],\n",
       "       ..., \n",
       "       [ 0.,  0.,  0., ...,  0.,  1.,  0.],\n",
       "       [ 0.,  0.,  0., ...,  1.,  0.,  0.],\n",
       "       [ 0.,  1.,  0., ...,  0.,  0.,  0.]])"
      ]
     },
     "execution_count": 57,
     "metadata": {},
     "output_type": "execute_result"
    }
   ],
   "source": [
    "y= load_mnist(10)\n",
    "y"
   ]
  }
 ],
 "metadata": {
  "kernelspec": {
   "display_name": "Python 3",
   "language": "python",
   "name": "python3"
  },
  "language_info": {
   "codemirror_mode": {
    "name": "ipython",
    "version": 3
   },
   "file_extension": ".py",
   "mimetype": "text/x-python",
   "name": "python",
   "nbconvert_exporter": "python",
   "pygments_lexer": "ipython3",
   "version": "3.6.1"
  }
 },
 "nbformat": 4,
 "nbformat_minor": 2
}
